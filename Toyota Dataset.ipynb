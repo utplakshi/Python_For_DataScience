{
 "cells": [
  {
   "cell_type": "code",
   "execution_count": 2,
   "id": "de5cc00a",
   "metadata": {},
   "outputs": [],
   "source": [
    "import numpy as np\n",
    "import pandas as pd\n",
    "import os \n",
    "import matplotlib.pyplot as plt \n",
    "import seaborn as sns "
   ]
  },
  {
   "cell_type": "code",
   "execution_count": 5,
   "id": "6d04919b",
   "metadata": {},
   "outputs": [],
   "source": [
    "data=pd.read_csv('E:/Datasets/Toyota.csv'\n",
    ", index_col=0, na_values=['??','????'])"
   ]
  },
  {
   "cell_type": "code",
   "execution_count": 6,
   "id": "dcb5832c",
   "metadata": {},
   "outputs": [
    {
     "data": {
      "text/plain": [
       "Int64Index([   0,    1,    2,    3,    4,    5,    6,    7,    8,    9,\n",
       "            ...\n",
       "            1426, 1427, 1428, 1429, 1430, 1431, 1432, 1433, 1434, 1435],\n",
       "           dtype='int64', length=1436)"
      ]
     },
     "execution_count": 6,
     "metadata": {},
     "output_type": "execute_result"
    }
   ],
   "source": [
    "data.index #to get index"
   ]
  },
  {
   "cell_type": "code",
   "execution_count": 7,
   "id": "fd08c896",
   "metadata": {},
   "outputs": [
    {
     "data": {
      "text/plain": [
       "Index(['Price', 'Age', 'KM', 'FuelType', 'HP', 'MetColor', 'Automatic', 'CC',\n",
       "       'Doors', 'Weight'],\n",
       "      dtype='object')"
      ]
     },
     "execution_count": 7,
     "metadata": {},
     "output_type": "execute_result"
    }
   ],
   "source": [
    "data.columns #to get columns"
   ]
  },
  {
   "cell_type": "code",
   "execution_count": 8,
   "id": "cf8015cb",
   "metadata": {},
   "outputs": [
    {
     "data": {
      "text/plain": [
       "14360"
      ]
     },
     "execution_count": 8,
     "metadata": {},
     "output_type": "execute_result"
    }
   ],
   "source": [
    "data.size #to get the size"
   ]
  },
  {
   "cell_type": "code",
   "execution_count": 9,
   "id": "3136da7f",
   "metadata": {},
   "outputs": [
    {
     "data": {
      "text/plain": [
       "(1436, 10)"
      ]
     },
     "execution_count": 9,
     "metadata": {},
     "output_type": "execute_result"
    }
   ],
   "source": [
    "data.shape #dimensionality of the dataframe #14360 rows and 10 columns"
   ]
  },
  {
   "cell_type": "code",
   "execution_count": 10,
   "id": "8626c360",
   "metadata": {},
   "outputs": [
    {
     "data": {
      "text/plain": [
       "<bound method DataFrame.memory_usage of       Price   Age       KM FuelType     HP  MetColor  Automatic    CC  Doors  \\\n",
       "0     13500  23.0  46986.0   Diesel   90.0       1.0          0  2000  three   \n",
       "1     13750  23.0  72937.0   Diesel   90.0       1.0          0  2000      3   \n",
       "2     13950  24.0  41711.0   Diesel   90.0       NaN          0  2000      3   \n",
       "3     14950  26.0  48000.0   Diesel   90.0       0.0          0  2000      3   \n",
       "4     13750  30.0  38500.0   Diesel   90.0       0.0          0  2000      3   \n",
       "...     ...   ...      ...      ...    ...       ...        ...   ...    ...   \n",
       "1431   7500   NaN  20544.0   Petrol   86.0       1.0          0  1300      3   \n",
       "1432  10845  72.0      NaN   Petrol   86.0       0.0          0  1300      3   \n",
       "1433   8500   NaN  17016.0   Petrol   86.0       0.0          0  1300      3   \n",
       "1434   7250  70.0      NaN      NaN   86.0       1.0          0  1300      3   \n",
       "1435   6950  76.0      1.0   Petrol  110.0       0.0          0  1600      5   \n",
       "\n",
       "      Weight  \n",
       "0       1165  \n",
       "1       1165  \n",
       "2       1165  \n",
       "3       1165  \n",
       "4       1170  \n",
       "...      ...  \n",
       "1431    1025  \n",
       "1432    1015  \n",
       "1433    1015  \n",
       "1434    1015  \n",
       "1435    1114  \n",
       "\n",
       "[1436 rows x 10 columns]>"
      ]
     },
     "execution_count": 10,
     "metadata": {},
     "output_type": "execute_result"
    }
   ],
   "source": [
    "data.memory_usage #memory usage of each column in bytes"
   ]
  },
  {
   "cell_type": "code",
   "execution_count": 11,
   "id": "e276d1b6",
   "metadata": {},
   "outputs": [
    {
     "data": {
      "text/plain": [
       "2"
      ]
     },
     "execution_count": 11,
     "metadata": {},
     "output_type": "execute_result"
    }
   ],
   "source": [
    "data.ndim #to get number of dimensions"
   ]
  },
  {
   "cell_type": "code",
   "execution_count": 12,
   "id": "148dc45d",
   "metadata": {},
   "outputs": [
    {
     "data": {
      "text/html": [
       "<div>\n",
       "<style scoped>\n",
       "    .dataframe tbody tr th:only-of-type {\n",
       "        vertical-align: middle;\n",
       "    }\n",
       "\n",
       "    .dataframe tbody tr th {\n",
       "        vertical-align: top;\n",
       "    }\n",
       "\n",
       "    .dataframe thead th {\n",
       "        text-align: right;\n",
       "    }\n",
       "</style>\n",
       "<table border=\"1\" class=\"dataframe\">\n",
       "  <thead>\n",
       "    <tr style=\"text-align: right;\">\n",
       "      <th></th>\n",
       "      <th>Price</th>\n",
       "      <th>Age</th>\n",
       "      <th>KM</th>\n",
       "      <th>FuelType</th>\n",
       "      <th>HP</th>\n",
       "      <th>MetColor</th>\n",
       "      <th>Automatic</th>\n",
       "      <th>CC</th>\n",
       "      <th>Doors</th>\n",
       "      <th>Weight</th>\n",
       "    </tr>\n",
       "  </thead>\n",
       "  <tbody>\n",
       "    <tr>\n",
       "      <th>0</th>\n",
       "      <td>13500</td>\n",
       "      <td>23.0</td>\n",
       "      <td>46986.0</td>\n",
       "      <td>Diesel</td>\n",
       "      <td>90.0</td>\n",
       "      <td>1.0</td>\n",
       "      <td>0</td>\n",
       "      <td>2000</td>\n",
       "      <td>three</td>\n",
       "      <td>1165</td>\n",
       "    </tr>\n",
       "    <tr>\n",
       "      <th>1</th>\n",
       "      <td>13750</td>\n",
       "      <td>23.0</td>\n",
       "      <td>72937.0</td>\n",
       "      <td>Diesel</td>\n",
       "      <td>90.0</td>\n",
       "      <td>1.0</td>\n",
       "      <td>0</td>\n",
       "      <td>2000</td>\n",
       "      <td>3</td>\n",
       "      <td>1165</td>\n",
       "    </tr>\n",
       "    <tr>\n",
       "      <th>2</th>\n",
       "      <td>13950</td>\n",
       "      <td>24.0</td>\n",
       "      <td>41711.0</td>\n",
       "      <td>Diesel</td>\n",
       "      <td>90.0</td>\n",
       "      <td>NaN</td>\n",
       "      <td>0</td>\n",
       "      <td>2000</td>\n",
       "      <td>3</td>\n",
       "      <td>1165</td>\n",
       "    </tr>\n",
       "    <tr>\n",
       "      <th>3</th>\n",
       "      <td>14950</td>\n",
       "      <td>26.0</td>\n",
       "      <td>48000.0</td>\n",
       "      <td>Diesel</td>\n",
       "      <td>90.0</td>\n",
       "      <td>0.0</td>\n",
       "      <td>0</td>\n",
       "      <td>2000</td>\n",
       "      <td>3</td>\n",
       "      <td>1165</td>\n",
       "    </tr>\n",
       "    <tr>\n",
       "      <th>4</th>\n",
       "      <td>13750</td>\n",
       "      <td>30.0</td>\n",
       "      <td>38500.0</td>\n",
       "      <td>Diesel</td>\n",
       "      <td>90.0</td>\n",
       "      <td>0.0</td>\n",
       "      <td>0</td>\n",
       "      <td>2000</td>\n",
       "      <td>3</td>\n",
       "      <td>1170</td>\n",
       "    </tr>\n",
       "  </tbody>\n",
       "</table>\n",
       "</div>"
      ],
      "text/plain": [
       "   Price   Age       KM FuelType    HP  MetColor  Automatic    CC  Doors  \\\n",
       "0  13500  23.0  46986.0   Diesel  90.0       1.0          0  2000  three   \n",
       "1  13750  23.0  72937.0   Diesel  90.0       1.0          0  2000      3   \n",
       "2  13950  24.0  41711.0   Diesel  90.0       NaN          0  2000      3   \n",
       "3  14950  26.0  48000.0   Diesel  90.0       0.0          0  2000      3   \n",
       "4  13750  30.0  38500.0   Diesel  90.0       0.0          0  2000      3   \n",
       "\n",
       "   Weight  \n",
       "0    1165  \n",
       "1    1165  \n",
       "2    1165  \n",
       "3    1165  \n",
       "4    1170  "
      ]
     },
     "execution_count": 12,
     "metadata": {},
     "output_type": "execute_result"
    }
   ],
   "source": [
    "data.head()"
   ]
  },
  {
   "cell_type": "code",
   "execution_count": 13,
   "id": "96059819",
   "metadata": {},
   "outputs": [
    {
     "data": {
      "text/html": [
       "<div>\n",
       "<style scoped>\n",
       "    .dataframe tbody tr th:only-of-type {\n",
       "        vertical-align: middle;\n",
       "    }\n",
       "\n",
       "    .dataframe tbody tr th {\n",
       "        vertical-align: top;\n",
       "    }\n",
       "\n",
       "    .dataframe thead th {\n",
       "        text-align: right;\n",
       "    }\n",
       "</style>\n",
       "<table border=\"1\" class=\"dataframe\">\n",
       "  <thead>\n",
       "    <tr style=\"text-align: right;\">\n",
       "      <th></th>\n",
       "      <th>Price</th>\n",
       "      <th>Age</th>\n",
       "      <th>KM</th>\n",
       "      <th>FuelType</th>\n",
       "      <th>HP</th>\n",
       "      <th>MetColor</th>\n",
       "      <th>Automatic</th>\n",
       "      <th>CC</th>\n",
       "      <th>Doors</th>\n",
       "      <th>Weight</th>\n",
       "    </tr>\n",
       "  </thead>\n",
       "  <tbody>\n",
       "    <tr>\n",
       "      <th>0</th>\n",
       "      <td>13500</td>\n",
       "      <td>23.0</td>\n",
       "      <td>46986.0</td>\n",
       "      <td>Diesel</td>\n",
       "      <td>90.0</td>\n",
       "      <td>1.0</td>\n",
       "      <td>0</td>\n",
       "      <td>2000</td>\n",
       "      <td>three</td>\n",
       "      <td>1165</td>\n",
       "    </tr>\n",
       "    <tr>\n",
       "      <th>1</th>\n",
       "      <td>13750</td>\n",
       "      <td>23.0</td>\n",
       "      <td>72937.0</td>\n",
       "      <td>Diesel</td>\n",
       "      <td>90.0</td>\n",
       "      <td>1.0</td>\n",
       "      <td>0</td>\n",
       "      <td>2000</td>\n",
       "      <td>3</td>\n",
       "      <td>1165</td>\n",
       "    </tr>\n",
       "    <tr>\n",
       "      <th>2</th>\n",
       "      <td>13950</td>\n",
       "      <td>24.0</td>\n",
       "      <td>41711.0</td>\n",
       "      <td>Diesel</td>\n",
       "      <td>90.0</td>\n",
       "      <td>NaN</td>\n",
       "      <td>0</td>\n",
       "      <td>2000</td>\n",
       "      <td>3</td>\n",
       "      <td>1165</td>\n",
       "    </tr>\n",
       "    <tr>\n",
       "      <th>3</th>\n",
       "      <td>14950</td>\n",
       "      <td>26.0</td>\n",
       "      <td>48000.0</td>\n",
       "      <td>Diesel</td>\n",
       "      <td>90.0</td>\n",
       "      <td>0.0</td>\n",
       "      <td>0</td>\n",
       "      <td>2000</td>\n",
       "      <td>3</td>\n",
       "      <td>1165</td>\n",
       "    </tr>\n",
       "    <tr>\n",
       "      <th>4</th>\n",
       "      <td>13750</td>\n",
       "      <td>30.0</td>\n",
       "      <td>38500.0</td>\n",
       "      <td>Diesel</td>\n",
       "      <td>90.0</td>\n",
       "      <td>0.0</td>\n",
       "      <td>0</td>\n",
       "      <td>2000</td>\n",
       "      <td>3</td>\n",
       "      <td>1170</td>\n",
       "    </tr>\n",
       "    <tr>\n",
       "      <th>5</th>\n",
       "      <td>12950</td>\n",
       "      <td>32.0</td>\n",
       "      <td>61000.0</td>\n",
       "      <td>Diesel</td>\n",
       "      <td>90.0</td>\n",
       "      <td>0.0</td>\n",
       "      <td>0</td>\n",
       "      <td>2000</td>\n",
       "      <td>3</td>\n",
       "      <td>1170</td>\n",
       "    </tr>\n",
       "  </tbody>\n",
       "</table>\n",
       "</div>"
      ],
      "text/plain": [
       "   Price   Age       KM FuelType    HP  MetColor  Automatic    CC  Doors  \\\n",
       "0  13500  23.0  46986.0   Diesel  90.0       1.0          0  2000  three   \n",
       "1  13750  23.0  72937.0   Diesel  90.0       1.0          0  2000      3   \n",
       "2  13950  24.0  41711.0   Diesel  90.0       NaN          0  2000      3   \n",
       "3  14950  26.0  48000.0   Diesel  90.0       0.0          0  2000      3   \n",
       "4  13750  30.0  38500.0   Diesel  90.0       0.0          0  2000      3   \n",
       "5  12950  32.0  61000.0   Diesel  90.0       0.0          0  2000      3   \n",
       "\n",
       "   Weight  \n",
       "0    1165  \n",
       "1    1165  \n",
       "2    1165  \n",
       "3    1165  \n",
       "4    1170  \n",
       "5    1170  "
      ]
     },
     "execution_count": 13,
     "metadata": {},
     "output_type": "execute_result"
    }
   ],
   "source": [
    "data.head(6)"
   ]
  },
  {
   "cell_type": "code",
   "execution_count": 14,
   "id": "8cab1e20",
   "metadata": {},
   "outputs": [
    {
     "data": {
      "text/html": [
       "<div>\n",
       "<style scoped>\n",
       "    .dataframe tbody tr th:only-of-type {\n",
       "        vertical-align: middle;\n",
       "    }\n",
       "\n",
       "    .dataframe tbody tr th {\n",
       "        vertical-align: top;\n",
       "    }\n",
       "\n",
       "    .dataframe thead th {\n",
       "        text-align: right;\n",
       "    }\n",
       "</style>\n",
       "<table border=\"1\" class=\"dataframe\">\n",
       "  <thead>\n",
       "    <tr style=\"text-align: right;\">\n",
       "      <th></th>\n",
       "      <th>Price</th>\n",
       "      <th>Age</th>\n",
       "      <th>KM</th>\n",
       "      <th>FuelType</th>\n",
       "      <th>HP</th>\n",
       "      <th>MetColor</th>\n",
       "      <th>Automatic</th>\n",
       "      <th>CC</th>\n",
       "      <th>Doors</th>\n",
       "      <th>Weight</th>\n",
       "    </tr>\n",
       "  </thead>\n",
       "  <tbody>\n",
       "    <tr>\n",
       "      <th>1431</th>\n",
       "      <td>7500</td>\n",
       "      <td>NaN</td>\n",
       "      <td>20544.0</td>\n",
       "      <td>Petrol</td>\n",
       "      <td>86.0</td>\n",
       "      <td>1.0</td>\n",
       "      <td>0</td>\n",
       "      <td>1300</td>\n",
       "      <td>3</td>\n",
       "      <td>1025</td>\n",
       "    </tr>\n",
       "    <tr>\n",
       "      <th>1432</th>\n",
       "      <td>10845</td>\n",
       "      <td>72.0</td>\n",
       "      <td>NaN</td>\n",
       "      <td>Petrol</td>\n",
       "      <td>86.0</td>\n",
       "      <td>0.0</td>\n",
       "      <td>0</td>\n",
       "      <td>1300</td>\n",
       "      <td>3</td>\n",
       "      <td>1015</td>\n",
       "    </tr>\n",
       "    <tr>\n",
       "      <th>1433</th>\n",
       "      <td>8500</td>\n",
       "      <td>NaN</td>\n",
       "      <td>17016.0</td>\n",
       "      <td>Petrol</td>\n",
       "      <td>86.0</td>\n",
       "      <td>0.0</td>\n",
       "      <td>0</td>\n",
       "      <td>1300</td>\n",
       "      <td>3</td>\n",
       "      <td>1015</td>\n",
       "    </tr>\n",
       "    <tr>\n",
       "      <th>1434</th>\n",
       "      <td>7250</td>\n",
       "      <td>70.0</td>\n",
       "      <td>NaN</td>\n",
       "      <td>NaN</td>\n",
       "      <td>86.0</td>\n",
       "      <td>1.0</td>\n",
       "      <td>0</td>\n",
       "      <td>1300</td>\n",
       "      <td>3</td>\n",
       "      <td>1015</td>\n",
       "    </tr>\n",
       "    <tr>\n",
       "      <th>1435</th>\n",
       "      <td>6950</td>\n",
       "      <td>76.0</td>\n",
       "      <td>1.0</td>\n",
       "      <td>Petrol</td>\n",
       "      <td>110.0</td>\n",
       "      <td>0.0</td>\n",
       "      <td>0</td>\n",
       "      <td>1600</td>\n",
       "      <td>5</td>\n",
       "      <td>1114</td>\n",
       "    </tr>\n",
       "  </tbody>\n",
       "</table>\n",
       "</div>"
      ],
      "text/plain": [
       "      Price   Age       KM FuelType     HP  MetColor  Automatic    CC Doors  \\\n",
       "1431   7500   NaN  20544.0   Petrol   86.0       1.0          0  1300     3   \n",
       "1432  10845  72.0      NaN   Petrol   86.0       0.0          0  1300     3   \n",
       "1433   8500   NaN  17016.0   Petrol   86.0       0.0          0  1300     3   \n",
       "1434   7250  70.0      NaN      NaN   86.0       1.0          0  1300     3   \n",
       "1435   6950  76.0      1.0   Petrol  110.0       0.0          0  1600     5   \n",
       "\n",
       "      Weight  \n",
       "1431    1025  \n",
       "1432    1015  \n",
       "1433    1015  \n",
       "1434    1015  \n",
       "1435    1114  "
      ]
     },
     "execution_count": 14,
     "metadata": {},
     "output_type": "execute_result"
    }
   ],
   "source": [
    "data.tail(5) #it is useful for verifying the data"
   ]
  },
  {
   "cell_type": "code",
   "execution_count": 15,
   "id": "978d5120",
   "metadata": {},
   "outputs": [
    {
     "data": {
      "text/plain": [
       "0       Diesel\n",
       "1       Diesel\n",
       "2       Diesel\n",
       "3       Diesel\n",
       "4       Diesel\n",
       "         ...  \n",
       "1431    Petrol\n",
       "1432    Petrol\n",
       "1433    Petrol\n",
       "1434       NaN\n",
       "1435    Petrol\n",
       "Name: FuelType, Length: 1436, dtype: object"
      ]
     },
     "execution_count": 15,
     "metadata": {},
     "output_type": "execute_result"
    }
   ],
   "source": [
    "data.loc[:,'FuelType']"
   ]
  },
  {
   "cell_type": "code",
   "execution_count": 16,
   "id": "54502c7b",
   "metadata": {},
   "outputs": [
    {
     "data": {
      "text/plain": [
       "Price          int64\n",
       "Age          float64\n",
       "KM           float64\n",
       "FuelType      object\n",
       "HP           float64\n",
       "MetColor     float64\n",
       "Automatic      int64\n",
       "CC             int64\n",
       "Doors         object\n",
       "Weight         int64\n",
       "dtype: object"
      ]
     },
     "execution_count": 16,
     "metadata": {},
     "output_type": "execute_result"
    }
   ],
   "source": [
    "data.dtypes #shows the data types"
   ]
  },
  {
   "cell_type": "code",
   "execution_count": 18,
   "id": "eeea38b9",
   "metadata": {},
   "outputs": [
    {
     "data": {
      "text/html": [
       "<div>\n",
       "<style scoped>\n",
       "    .dataframe tbody tr th:only-of-type {\n",
       "        vertical-align: middle;\n",
       "    }\n",
       "\n",
       "    .dataframe tbody tr th {\n",
       "        vertical-align: top;\n",
       "    }\n",
       "\n",
       "    .dataframe thead th {\n",
       "        text-align: right;\n",
       "    }\n",
       "</style>\n",
       "<table border=\"1\" class=\"dataframe\">\n",
       "  <thead>\n",
       "    <tr style=\"text-align: right;\">\n",
       "      <th></th>\n",
       "      <th>Price</th>\n",
       "      <th>Age</th>\n",
       "      <th>KM</th>\n",
       "      <th>HP</th>\n",
       "      <th>MetColor</th>\n",
       "      <th>Automatic</th>\n",
       "      <th>CC</th>\n",
       "      <th>Weight</th>\n",
       "    </tr>\n",
       "  </thead>\n",
       "  <tbody>\n",
       "    <tr>\n",
       "      <th>0</th>\n",
       "      <td>13500</td>\n",
       "      <td>23.0</td>\n",
       "      <td>46986.0</td>\n",
       "      <td>90.0</td>\n",
       "      <td>1.0</td>\n",
       "      <td>0</td>\n",
       "      <td>2000</td>\n",
       "      <td>1165</td>\n",
       "    </tr>\n",
       "    <tr>\n",
       "      <th>1</th>\n",
       "      <td>13750</td>\n",
       "      <td>23.0</td>\n",
       "      <td>72937.0</td>\n",
       "      <td>90.0</td>\n",
       "      <td>1.0</td>\n",
       "      <td>0</td>\n",
       "      <td>2000</td>\n",
       "      <td>1165</td>\n",
       "    </tr>\n",
       "    <tr>\n",
       "      <th>2</th>\n",
       "      <td>13950</td>\n",
       "      <td>24.0</td>\n",
       "      <td>41711.0</td>\n",
       "      <td>90.0</td>\n",
       "      <td>NaN</td>\n",
       "      <td>0</td>\n",
       "      <td>2000</td>\n",
       "      <td>1165</td>\n",
       "    </tr>\n",
       "    <tr>\n",
       "      <th>3</th>\n",
       "      <td>14950</td>\n",
       "      <td>26.0</td>\n",
       "      <td>48000.0</td>\n",
       "      <td>90.0</td>\n",
       "      <td>0.0</td>\n",
       "      <td>0</td>\n",
       "      <td>2000</td>\n",
       "      <td>1165</td>\n",
       "    </tr>\n",
       "    <tr>\n",
       "      <th>4</th>\n",
       "      <td>13750</td>\n",
       "      <td>30.0</td>\n",
       "      <td>38500.0</td>\n",
       "      <td>90.0</td>\n",
       "      <td>0.0</td>\n",
       "      <td>0</td>\n",
       "      <td>2000</td>\n",
       "      <td>1170</td>\n",
       "    </tr>\n",
       "    <tr>\n",
       "      <th>...</th>\n",
       "      <td>...</td>\n",
       "      <td>...</td>\n",
       "      <td>...</td>\n",
       "      <td>...</td>\n",
       "      <td>...</td>\n",
       "      <td>...</td>\n",
       "      <td>...</td>\n",
       "      <td>...</td>\n",
       "    </tr>\n",
       "    <tr>\n",
       "      <th>1431</th>\n",
       "      <td>7500</td>\n",
       "      <td>NaN</td>\n",
       "      <td>20544.0</td>\n",
       "      <td>86.0</td>\n",
       "      <td>1.0</td>\n",
       "      <td>0</td>\n",
       "      <td>1300</td>\n",
       "      <td>1025</td>\n",
       "    </tr>\n",
       "    <tr>\n",
       "      <th>1432</th>\n",
       "      <td>10845</td>\n",
       "      <td>72.0</td>\n",
       "      <td>NaN</td>\n",
       "      <td>86.0</td>\n",
       "      <td>0.0</td>\n",
       "      <td>0</td>\n",
       "      <td>1300</td>\n",
       "      <td>1015</td>\n",
       "    </tr>\n",
       "    <tr>\n",
       "      <th>1433</th>\n",
       "      <td>8500</td>\n",
       "      <td>NaN</td>\n",
       "      <td>17016.0</td>\n",
       "      <td>86.0</td>\n",
       "      <td>0.0</td>\n",
       "      <td>0</td>\n",
       "      <td>1300</td>\n",
       "      <td>1015</td>\n",
       "    </tr>\n",
       "    <tr>\n",
       "      <th>1434</th>\n",
       "      <td>7250</td>\n",
       "      <td>70.0</td>\n",
       "      <td>NaN</td>\n",
       "      <td>86.0</td>\n",
       "      <td>1.0</td>\n",
       "      <td>0</td>\n",
       "      <td>1300</td>\n",
       "      <td>1015</td>\n",
       "    </tr>\n",
       "    <tr>\n",
       "      <th>1435</th>\n",
       "      <td>6950</td>\n",
       "      <td>76.0</td>\n",
       "      <td>1.0</td>\n",
       "      <td>110.0</td>\n",
       "      <td>0.0</td>\n",
       "      <td>0</td>\n",
       "      <td>1600</td>\n",
       "      <td>1114</td>\n",
       "    </tr>\n",
       "  </tbody>\n",
       "</table>\n",
       "<p>1436 rows × 8 columns</p>\n",
       "</div>"
      ],
      "text/plain": [
       "      Price   Age       KM     HP  MetColor  Automatic    CC  Weight\n",
       "0     13500  23.0  46986.0   90.0       1.0          0  2000    1165\n",
       "1     13750  23.0  72937.0   90.0       1.0          0  2000    1165\n",
       "2     13950  24.0  41711.0   90.0       NaN          0  2000    1165\n",
       "3     14950  26.0  48000.0   90.0       0.0          0  2000    1165\n",
       "4     13750  30.0  38500.0   90.0       0.0          0  2000    1170\n",
       "...     ...   ...      ...    ...       ...        ...   ...     ...\n",
       "1431   7500   NaN  20544.0   86.0       1.0          0  1300    1025\n",
       "1432  10845  72.0      NaN   86.0       0.0          0  1300    1015\n",
       "1433   8500   NaN  17016.0   86.0       0.0          0  1300    1015\n",
       "1434   7250  70.0      NaN   86.0       1.0          0  1300    1015\n",
       "1435   6950  76.0      1.0  110.0       0.0          0  1600    1114\n",
       "\n",
       "[1436 rows x 8 columns]"
      ]
     },
     "execution_count": 18,
     "metadata": {},
     "output_type": "execute_result"
    }
   ],
   "source": [
    "data.select_dtypes(exclude=[object])"
   ]
  },
  {
   "cell_type": "code",
   "execution_count": 19,
   "id": "6128f948",
   "metadata": {},
   "outputs": [
    {
     "name": "stdout",
     "output_type": "stream",
     "text": [
      "<class 'pandas.core.frame.DataFrame'>\n",
      "Int64Index: 1436 entries, 0 to 1435\n",
      "Data columns (total 10 columns):\n",
      " #   Column     Non-Null Count  Dtype  \n",
      "---  ------     --------------  -----  \n",
      " 0   Price      1436 non-null   int64  \n",
      " 1   Age        1336 non-null   float64\n",
      " 2   KM         1421 non-null   float64\n",
      " 3   FuelType   1336 non-null   object \n",
      " 4   HP         1430 non-null   float64\n",
      " 5   MetColor   1286 non-null   float64\n",
      " 6   Automatic  1436 non-null   int64  \n",
      " 7   CC         1436 non-null   int64  \n",
      " 8   Doors      1436 non-null   object \n",
      " 9   Weight     1436 non-null   int64  \n",
      "dtypes: float64(4), int64(4), object(2)\n",
      "memory usage: 123.4+ KB\n"
     ]
    }
   ],
   "source": [
    "data.info()"
   ]
  },
  {
   "cell_type": "code",
   "execution_count": 20,
   "id": "beae0388",
   "metadata": {},
   "outputs": [
    {
     "name": "stdout",
     "output_type": "stream",
     "text": [
      "[  1.  15. 225. ...  nan  nan  nan]\n"
     ]
    }
   ],
   "source": [
    "print(np.unique(data['KM']))"
   ]
  },
  {
   "cell_type": "code",
   "execution_count": 21,
   "id": "45b01d40",
   "metadata": {},
   "outputs": [],
   "source": [
    "data['MetColor']=data['MetColor'].astype('object') #Converting MetColor to object datatype"
   ]
  },
  {
   "cell_type": "code",
   "execution_count": 22,
   "id": "8a4cf9bb",
   "metadata": {},
   "outputs": [
    {
     "name": "stdout",
     "output_type": "stream",
     "text": [
      "['2' '3' '4' '5' 'five' 'four' 'three']\n"
     ]
    }
   ],
   "source": [
    "print(np.unique(data['Doors']))"
   ]
  },
  {
   "cell_type": "code",
   "execution_count": 23,
   "id": "f8adfbe9",
   "metadata": {},
   "outputs": [
    {
     "data": {
      "text/plain": [
       "Price          0\n",
       "Age          100\n",
       "KM            15\n",
       "FuelType     100\n",
       "HP             6\n",
       "MetColor     150\n",
       "Automatic      0\n",
       "CC             0\n",
       "Doors          0\n",
       "Weight         0\n",
       "dtype: int64"
      ]
     },
     "execution_count": 23,
     "metadata": {},
     "output_type": "execute_result"
    }
   ],
   "source": [
    "data.isnull().sum() #To chck the count of missing values present in each column"
   ]
  },
  {
   "cell_type": "code",
   "execution_count": 24,
   "id": "f9501bfd",
   "metadata": {},
   "outputs": [],
   "source": [
    "data2=data.copy() #creating a copy of original data"
   ]
  },
  {
   "cell_type": "code",
   "execution_count": 25,
   "id": "aa4859f6",
   "metadata": {},
   "outputs": [
    {
     "data": {
      "text/html": [
       "<div>\n",
       "<style scoped>\n",
       "    .dataframe tbody tr th:only-of-type {\n",
       "        vertical-align: middle;\n",
       "    }\n",
       "\n",
       "    .dataframe tbody tr th {\n",
       "        vertical-align: top;\n",
       "    }\n",
       "\n",
       "    .dataframe thead th {\n",
       "        text-align: right;\n",
       "    }\n",
       "</style>\n",
       "<table border=\"1\" class=\"dataframe\">\n",
       "  <thead>\n",
       "    <tr style=\"text-align: right;\">\n",
       "      <th>col_0</th>\n",
       "      <th>count</th>\n",
       "    </tr>\n",
       "    <tr>\n",
       "      <th>FuelType</th>\n",
       "      <th></th>\n",
       "    </tr>\n",
       "  </thead>\n",
       "  <tbody>\n",
       "    <tr>\n",
       "      <th>CNG</th>\n",
       "      <td>15</td>\n",
       "    </tr>\n",
       "    <tr>\n",
       "      <th>Diesel</th>\n",
       "      <td>144</td>\n",
       "    </tr>\n",
       "    <tr>\n",
       "      <th>Petrol</th>\n",
       "      <td>1177</td>\n",
       "    </tr>\n",
       "  </tbody>\n",
       "</table>\n",
       "</div>"
      ],
      "text/plain": [
       "col_0     count\n",
       "FuelType       \n",
       "CNG          15\n",
       "Diesel      144\n",
       "Petrol     1177"
      ]
     },
     "execution_count": 25,
     "metadata": {},
     "output_type": "execute_result"
    }
   ],
   "source": [
    "#to compute a simple cross-tabulation of one,two or more factors\n",
    "#By default computes a frequency table of the factors\n",
    "pd.crosstab(index=data2['FuelType'],columns='count',dropna=True)"
   ]
  },
  {
   "cell_type": "code",
   "execution_count": 26,
   "id": "47248e7f",
   "metadata": {},
   "outputs": [
    {
     "data": {
      "text/html": [
       "<div>\n",
       "<style scoped>\n",
       "    .dataframe tbody tr th:only-of-type {\n",
       "        vertical-align: middle;\n",
       "    }\n",
       "\n",
       "    .dataframe tbody tr th {\n",
       "        vertical-align: top;\n",
       "    }\n",
       "\n",
       "    .dataframe thead th {\n",
       "        text-align: right;\n",
       "    }\n",
       "</style>\n",
       "<table border=\"1\" class=\"dataframe\">\n",
       "  <thead>\n",
       "    <tr style=\"text-align: right;\">\n",
       "      <th>FuelType</th>\n",
       "      <th>CNG</th>\n",
       "      <th>Diesel</th>\n",
       "      <th>Petrol</th>\n",
       "    </tr>\n",
       "    <tr>\n",
       "      <th>Automatic</th>\n",
       "      <th></th>\n",
       "      <th></th>\n",
       "      <th></th>\n",
       "    </tr>\n",
       "  </thead>\n",
       "  <tbody>\n",
       "    <tr>\n",
       "      <th>0</th>\n",
       "      <td>15</td>\n",
       "      <td>144</td>\n",
       "      <td>1104</td>\n",
       "    </tr>\n",
       "    <tr>\n",
       "      <th>1</th>\n",
       "      <td>0</td>\n",
       "      <td>0</td>\n",
       "      <td>73</td>\n",
       "    </tr>\n",
       "  </tbody>\n",
       "</table>\n",
       "</div>"
      ],
      "text/plain": [
       "FuelType   CNG  Diesel  Petrol\n",
       "Automatic                     \n",
       "0           15     144    1104\n",
       "1            0       0      73"
      ]
     },
     "execution_count": 26,
     "metadata": {},
     "output_type": "execute_result"
    }
   ],
   "source": [
    "#two way tables, To look at the frequency distribution of gearbox types with respect to fuel types of \n",
    "#the cars\n",
    "pd.crosstab(index=data2['Automatic'],columns=data2['FuelType'],dropna=True)"
   ]
  },
  {
   "cell_type": "code",
   "execution_count": 28,
   "id": "5b2125ef",
   "metadata": {},
   "outputs": [
    {
     "data": {
      "text/html": [
       "<div>\n",
       "<style scoped>\n",
       "    .dataframe tbody tr th:only-of-type {\n",
       "        vertical-align: middle;\n",
       "    }\n",
       "\n",
       "    .dataframe tbody tr th {\n",
       "        vertical-align: top;\n",
       "    }\n",
       "\n",
       "    .dataframe thead th {\n",
       "        text-align: right;\n",
       "    }\n",
       "</style>\n",
       "<table border=\"1\" class=\"dataframe\">\n",
       "  <thead>\n",
       "    <tr style=\"text-align: right;\">\n",
       "      <th>FuelType</th>\n",
       "      <th>CNG</th>\n",
       "      <th>Diesel</th>\n",
       "      <th>Petrol</th>\n",
       "    </tr>\n",
       "    <tr>\n",
       "      <th>Automatic</th>\n",
       "      <th></th>\n",
       "      <th></th>\n",
       "      <th></th>\n",
       "    </tr>\n",
       "  </thead>\n",
       "  <tbody>\n",
       "    <tr>\n",
       "      <th>0</th>\n",
       "      <td>0.011228</td>\n",
       "      <td>0.107784</td>\n",
       "      <td>0.826347</td>\n",
       "    </tr>\n",
       "    <tr>\n",
       "      <th>1</th>\n",
       "      <td>0.000000</td>\n",
       "      <td>0.000000</td>\n",
       "      <td>0.054641</td>\n",
       "    </tr>\n",
       "  </tbody>\n",
       "</table>\n",
       "</div>"
      ],
      "text/plain": [
       "FuelType        CNG    Diesel    Petrol\n",
       "Automatic                              \n",
       "0          0.011228  0.107784  0.826347\n",
       "1          0.000000  0.000000  0.054641"
      ]
     },
     "execution_count": 28,
     "metadata": {},
     "output_type": "execute_result"
    }
   ],
   "source": [
    "#twoway joint probability\n",
    "#add normalize=True\n",
    "pd.crosstab(index=data2['Automatic'],columns=data2['FuelType'],normalize=True,dropna=True)"
   ]
  },
  {
   "cell_type": "code",
   "execution_count": 29,
   "id": "7c9a1f34",
   "metadata": {},
   "outputs": [
    {
     "data": {
      "text/html": [
       "<div>\n",
       "<style scoped>\n",
       "    .dataframe tbody tr th:only-of-type {\n",
       "        vertical-align: middle;\n",
       "    }\n",
       "\n",
       "    .dataframe tbody tr th {\n",
       "        vertical-align: top;\n",
       "    }\n",
       "\n",
       "    .dataframe thead th {\n",
       "        text-align: right;\n",
       "    }\n",
       "</style>\n",
       "<table border=\"1\" class=\"dataframe\">\n",
       "  <thead>\n",
       "    <tr style=\"text-align: right;\">\n",
       "      <th>FuelType</th>\n",
       "      <th>CNG</th>\n",
       "      <th>Diesel</th>\n",
       "      <th>Petrol</th>\n",
       "      <th>All</th>\n",
       "    </tr>\n",
       "    <tr>\n",
       "      <th>Automatic</th>\n",
       "      <th></th>\n",
       "      <th></th>\n",
       "      <th></th>\n",
       "      <th></th>\n",
       "    </tr>\n",
       "  </thead>\n",
       "  <tbody>\n",
       "    <tr>\n",
       "      <th>0</th>\n",
       "      <td>0.011228</td>\n",
       "      <td>0.107784</td>\n",
       "      <td>0.826347</td>\n",
       "      <td>0.945359</td>\n",
       "    </tr>\n",
       "    <tr>\n",
       "      <th>1</th>\n",
       "      <td>0.000000</td>\n",
       "      <td>0.000000</td>\n",
       "      <td>0.054641</td>\n",
       "      <td>0.054641</td>\n",
       "    </tr>\n",
       "    <tr>\n",
       "      <th>All</th>\n",
       "      <td>0.011228</td>\n",
       "      <td>0.107784</td>\n",
       "      <td>0.880988</td>\n",
       "      <td>1.000000</td>\n",
       "    </tr>\n",
       "  </tbody>\n",
       "</table>\n",
       "</div>"
      ],
      "text/plain": [
       "FuelType        CNG    Diesel    Petrol       All\n",
       "Automatic                                        \n",
       "0          0.011228  0.107784  0.826347  0.945359\n",
       "1          0.000000  0.000000  0.054641  0.054641\n",
       "All        0.011228  0.107784  0.880988  1.000000"
      ]
     },
     "execution_count": 29,
     "metadata": {},
     "output_type": "execute_result"
    }
   ],
   "source": [
    "#twoway marginal probability\n",
    "#add normalize=True and margins=True\n",
    "pd.crosstab(index=data2['Automatic'],columns=data2['FuelType'],normalize=True,margins=True,dropna=True)"
   ]
  },
  {
   "cell_type": "code",
   "execution_count": 30,
   "id": "4d27b797",
   "metadata": {},
   "outputs": [
    {
     "data": {
      "text/html": [
       "<div>\n",
       "<style scoped>\n",
       "    .dataframe tbody tr th:only-of-type {\n",
       "        vertical-align: middle;\n",
       "    }\n",
       "\n",
       "    .dataframe tbody tr th {\n",
       "        vertical-align: top;\n",
       "    }\n",
       "\n",
       "    .dataframe thead th {\n",
       "        text-align: right;\n",
       "    }\n",
       "</style>\n",
       "<table border=\"1\" class=\"dataframe\">\n",
       "  <thead>\n",
       "    <tr style=\"text-align: right;\">\n",
       "      <th>FuelType</th>\n",
       "      <th>CNG</th>\n",
       "      <th>Diesel</th>\n",
       "      <th>Petrol</th>\n",
       "      <th>All</th>\n",
       "    </tr>\n",
       "    <tr>\n",
       "      <th>Automatic</th>\n",
       "      <th></th>\n",
       "      <th></th>\n",
       "      <th></th>\n",
       "      <th></th>\n",
       "    </tr>\n",
       "  </thead>\n",
       "  <tbody>\n",
       "    <tr>\n",
       "      <th>0</th>\n",
       "      <td>1.0</td>\n",
       "      <td>1.0</td>\n",
       "      <td>0.937978</td>\n",
       "      <td>0.945359</td>\n",
       "    </tr>\n",
       "    <tr>\n",
       "      <th>1</th>\n",
       "      <td>0.0</td>\n",
       "      <td>0.0</td>\n",
       "      <td>0.062022</td>\n",
       "      <td>0.054641</td>\n",
       "    </tr>\n",
       "  </tbody>\n",
       "</table>\n",
       "</div>"
      ],
      "text/plain": [
       "FuelType   CNG  Diesel    Petrol       All\n",
       "Automatic                                 \n",
       "0          1.0     1.0  0.937978  0.945359\n",
       "1          0.0     0.0  0.062022  0.054641"
      ]
     },
     "execution_count": 30,
     "metadata": {},
     "output_type": "execute_result"
    }
   ],
   "source": [
    "#twoway conditional probability\n",
    "#add normalize='columns' amd margins='True'\n",
    "pd.crosstab(index=data2['Automatic'],columns=data2['FuelType'],normalize='columns',margins=True,dropna=True)"
   ]
  },
  {
   "cell_type": "code",
   "execution_count": 35,
   "id": "36481cfd",
   "metadata": {},
   "outputs": [],
   "source": [
    "#Corelation\n",
    "#To compute pairwise correlation of columns excluding NA/null values\n",
    "#Excluding the categorical variables to find Pearson's Correlation\n",
    "numerical_data=data2.select_dtypes(exclude=[object])"
   ]
  },
  {
   "cell_type": "code",
   "execution_count": 36,
   "id": "ad3687c5",
   "metadata": {},
   "outputs": [
    {
     "name": "stdout",
     "output_type": "stream",
     "text": [
      "(1436, 7)\n"
     ]
    }
   ],
   "source": [
    "print(numerical_data.shape)"
   ]
  },
  {
   "cell_type": "code",
   "execution_count": 38,
   "id": "4596ba07",
   "metadata": {},
   "outputs": [
    {
     "data": {
      "text/html": [
       "<div>\n",
       "<style scoped>\n",
       "    .dataframe tbody tr th:only-of-type {\n",
       "        vertical-align: middle;\n",
       "    }\n",
       "\n",
       "    .dataframe tbody tr th {\n",
       "        vertical-align: top;\n",
       "    }\n",
       "\n",
       "    .dataframe thead th {\n",
       "        text-align: right;\n",
       "    }\n",
       "</style>\n",
       "<table border=\"1\" class=\"dataframe\">\n",
       "  <thead>\n",
       "    <tr style=\"text-align: right;\">\n",
       "      <th></th>\n",
       "      <th>Price</th>\n",
       "      <th>Age</th>\n",
       "      <th>KM</th>\n",
       "      <th>HP</th>\n",
       "      <th>Automatic</th>\n",
       "      <th>CC</th>\n",
       "      <th>Weight</th>\n",
       "    </tr>\n",
       "  </thead>\n",
       "  <tbody>\n",
       "    <tr>\n",
       "      <th>Price</th>\n",
       "      <td>1.000000</td>\n",
       "      <td>-0.878407</td>\n",
       "      <td>-0.574720</td>\n",
       "      <td>0.309902</td>\n",
       "      <td>0.033081</td>\n",
       "      <td>0.165067</td>\n",
       "      <td>0.581198</td>\n",
       "    </tr>\n",
       "    <tr>\n",
       "      <th>Age</th>\n",
       "      <td>-0.878407</td>\n",
       "      <td>1.000000</td>\n",
       "      <td>0.512735</td>\n",
       "      <td>-0.157904</td>\n",
       "      <td>0.032573</td>\n",
       "      <td>-0.120706</td>\n",
       "      <td>-0.464299</td>\n",
       "    </tr>\n",
       "    <tr>\n",
       "      <th>KM</th>\n",
       "      <td>-0.574720</td>\n",
       "      <td>0.512735</td>\n",
       "      <td>1.000000</td>\n",
       "      <td>-0.335285</td>\n",
       "      <td>-0.081248</td>\n",
       "      <td>0.299993</td>\n",
       "      <td>-0.026271</td>\n",
       "    </tr>\n",
       "    <tr>\n",
       "      <th>HP</th>\n",
       "      <td>0.309902</td>\n",
       "      <td>-0.157904</td>\n",
       "      <td>-0.335285</td>\n",
       "      <td>1.000000</td>\n",
       "      <td>0.013755</td>\n",
       "      <td>0.053758</td>\n",
       "      <td>0.086737</td>\n",
       "    </tr>\n",
       "    <tr>\n",
       "      <th>Automatic</th>\n",
       "      <td>0.033081</td>\n",
       "      <td>0.032573</td>\n",
       "      <td>-0.081248</td>\n",
       "      <td>0.013755</td>\n",
       "      <td>1.000000</td>\n",
       "      <td>-0.069321</td>\n",
       "      <td>0.057249</td>\n",
       "    </tr>\n",
       "    <tr>\n",
       "      <th>CC</th>\n",
       "      <td>0.165067</td>\n",
       "      <td>-0.120706</td>\n",
       "      <td>0.299993</td>\n",
       "      <td>0.053758</td>\n",
       "      <td>-0.069321</td>\n",
       "      <td>1.000000</td>\n",
       "      <td>0.651450</td>\n",
       "    </tr>\n",
       "    <tr>\n",
       "      <th>Weight</th>\n",
       "      <td>0.581198</td>\n",
       "      <td>-0.464299</td>\n",
       "      <td>-0.026271</td>\n",
       "      <td>0.086737</td>\n",
       "      <td>0.057249</td>\n",
       "      <td>0.651450</td>\n",
       "      <td>1.000000</td>\n",
       "    </tr>\n",
       "  </tbody>\n",
       "</table>\n",
       "</div>"
      ],
      "text/plain": [
       "              Price       Age        KM        HP  Automatic        CC  \\\n",
       "Price      1.000000 -0.878407 -0.574720  0.309902   0.033081  0.165067   \n",
       "Age       -0.878407  1.000000  0.512735 -0.157904   0.032573 -0.120706   \n",
       "KM        -0.574720  0.512735  1.000000 -0.335285  -0.081248  0.299993   \n",
       "HP         0.309902 -0.157904 -0.335285  1.000000   0.013755  0.053758   \n",
       "Automatic  0.033081  0.032573 -0.081248  0.013755   1.000000 -0.069321   \n",
       "CC         0.165067 -0.120706  0.299993  0.053758  -0.069321  1.000000   \n",
       "Weight     0.581198 -0.464299 -0.026271  0.086737   0.057249  0.651450   \n",
       "\n",
       "             Weight  \n",
       "Price      0.581198  \n",
       "Age       -0.464299  \n",
       "KM        -0.026271  \n",
       "HP         0.086737  \n",
       "Automatic  0.057249  \n",
       "CC         0.651450  \n",
       "Weight     1.000000  "
      ]
     },
     "execution_count": 38,
     "metadata": {},
     "output_type": "execute_result"
    }
   ],
   "source": [
    "corr_matrix=numerical_data.corr()\n",
    "corr_matrix"
   ]
  },
  {
   "cell_type": "code",
   "execution_count": 39,
   "id": "b140ad6c",
   "metadata": {},
   "outputs": [],
   "source": [
    "#Scatterplot\n",
    "#A Scatter plot is a set of points that reprents the value obtained for two different variables \n",
    "#plotted on a horizonatl and vertical axes\n",
    "#Two numerical variables\n",
    "#Shows correlation between two variables\n",
    "\n",
    "\n",
    "#importing data\n",
    "data=pd.read_csv('E:/Datasets/Toyota.csv'\n",
    ", index_col=0, na_values=['??','????'])\n",
    "#removing missing values from the dataframe\n",
    "data.dropna(axis=0,inplace=True)"
   ]
  },
  {
   "cell_type": "code",
   "execution_count": 40,
   "id": "a8086d16",
   "metadata": {},
   "outputs": [
    {
     "data": {
      "image/png": "[encoded data removed]",
      "text/plain": [
       "<Figure size 432x288 with 1 Axes>"
      ]
     },
     "metadata": {
      "needs_background": "light"
     },
     "output_type": "display_data"
    }
   ],
   "source": [
    "plt.scatter(data['Age'],data['Price'],c='red')\n",
    "plt.title('Scatter plot of Price vs Age')\n",
    "plt.xlabel('Age (Months)')\n",
    "plt.ylabel('Price (Euros)')\n",
    "plt.show()\n",
    "#Price of car decreases as the age increases"
   ]
  },
  {
   "cell_type": "code",
   "execution_count": 41,
   "id": "88778ff3",
   "metadata": {},
   "outputs": [
    {
     "data": {
      "text/plain": [
       "(array([ 92., 239., 331., 222., 111.,  51.,  25.,  13.,  10.,   2.]),\n",
       " array([1.000000e+00, 2.430090e+04, 4.860080e+04, 7.290070e+04,\n",
       "        9.720060e+04, 1.215005e+05, 1.458004e+05, 1.701003e+05,\n",
       "        1.944002e+05, 2.187001e+05, 2.430000e+05]),\n",
       " <BarContainer object of 10 artists>)"
      ]
     },
     "execution_count": 41,
     "metadata": {},
     "output_type": "execute_result"
    },
    {
     "data": {
      "image/png": "[encoded data removed]",
      "text/plain": [
       "<Figure size 432x288 with 1 Axes>"
      ]
     },
     "metadata": {
      "needs_background": "light"
     },
     "output_type": "display_data"
    }
   ],
   "source": [
    "#Histogram\n",
    "#Graphical reprentation of data using different heights\n",
    "#Histogram groups numbers into ranges and height of each bar depicts the frequency of each range of bin\n",
    "#To represent the frequency distribultion of numerical variables\n",
    "plt.hist(data['KM'])"
   ]
  },
  {
   "cell_type": "code",
   "execution_count": 42,
   "id": "4f389ffa",
   "metadata": {},
   "outputs": [
    {
     "data": {
      "image/png": "[encoded data removed]",
      "text/plain": [
       "<Figure size 432x288 with 1 Axes>"
      ]
     },
     "metadata": {
      "needs_background": "light"
     },
     "output_type": "display_data"
    }
   ],
   "source": [
    "plt.hist(data['KM'],\n",
    "        color='green',\n",
    "        edgecolor='white',\n",
    "        bins=5)\n",
    "plt.title('Histogram of Kilometer')\n",
    "plt.xlabel('Kilometer')\n",
    "plt.ylabel('Frequency')\n",
    "plt.show()"
   ]
  },
  {
   "cell_type": "code",
   "execution_count": 44,
   "id": "3f904efe",
   "metadata": {},
   "outputs": [
    {
     "data": {
      "image/png": "[encoded data removed]",
      "text/plain": [
       "<Figure size 432x288 with 1 Axes>"
      ]
     },
     "metadata": {
      "needs_background": "light"
     },
     "output_type": "display_data"
    }
   ],
   "source": [
    "#bar plot\n",
    "#A bar plot that presents categorical data with rectangular bars with length proportional to the counts\n",
    "#they represent\n",
    "#to represent frequemcy distribution of categorical variables\n",
    "#A bar diagram makes it easy to compare sets of data between different groups\n",
    "counts=[979,120,12]\n",
    "fuelType=('Petrol','Diesel','CNG')\n",
    "index=np.arange(len(fuelType))\n",
    "plt.bar(index,counts,color=['red','blue','orange'])\n",
    "plt.xlabel('Fuel Types')\n",
    "plt.ylabel('Frequency')\n",
    "plt.show()"
   ]
  },
  {
   "cell_type": "code",
   "execution_count": 45,
   "id": "8d8e2b44",
   "metadata": {},
   "outputs": [
    {
     "data": {
      "image/png": "[encoded data removed]",
      "text/plain": [
       "<Figure size 432x288 with 1 Axes>"
      ]
     },
     "metadata": {
      "needs_background": "light"
     },
     "output_type": "display_data"
    }
   ],
   "source": [
    "fuelType=('Petrol','Diesel','CNG')\n",
    "index=np.arange(len(fuelType))\n",
    "plt.bar(index,counts,color=['red','blue','orange'])\n",
    "plt.xlabel('Fuel Types')\n",
    "plt.ylabel('Frequency')\n",
    "plt.xticks(index,fuelType,rotation=90) \n",
    "plt.show()\n",
    "#it shows that fuel type shows that most cars have petrol as fuel type"
   ]
  },
  {
   "cell_type": "code",
   "execution_count": 46,
   "id": "9cd100d8",
   "metadata": {},
   "outputs": [
    {
     "data": {
      "text/plain": [
       "Price        0\n",
       "Age          0\n",
       "KM           0\n",
       "FuelType     0\n",
       "HP           0\n",
       "MetColor     0\n",
       "Automatic    0\n",
       "CC           0\n",
       "Doors        0\n",
       "Weight       0\n",
       "dtype: int64"
      ]
     },
     "execution_count": 46,
     "metadata": {},
     "output_type": "execute_result"
    }
   ],
   "source": [
    "data.isna().sum()"
   ]
  },
  {
   "cell_type": "code",
   "execution_count": null,
   "id": "e1a5e754",
   "metadata": {},
   "outputs": [],
   "source": []
  }
 ],
 "metadata": {
  "kernelspec": {
   "display_name": "Python 3",
   "language": "python",
   "name": "python3"
  },
  "language_info": {
   "codemirror_mode": {
    "name": "ipython",
    "version": 3
   },
   "file_extension": ".py",
   "mimetype": "text/x-python",
   "name": "python",
   "nbconvert_exporter": "python",
   "pygments_lexer": "ipython3",
   "version": "3.8.8"
  }
 },
 "nbformat": 4,
 "nbformat_minor": 5
}
