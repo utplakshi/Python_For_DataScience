{
 "cells": [
  {
   "cell_type": "code",
   "execution_count": 1,
   "id": "4b425c62",
   "metadata": {},
   "outputs": [
    {
     "name": "stdout",
     "output_type": "stream",
     "text": [
      "learning is fun !\n"
     ]
    }
   ],
   "source": [
    "strSample='learning is fun !'\n",
    "print(strSample)"
   ]
  },
  {
   "cell_type": "code",
   "execution_count": 2,
   "id": "f0a2e699",
   "metadata": {},
   "outputs": [
    {
     "data": {
      "text/plain": [
       "'Learning is fun !'"
      ]
     },
     "execution_count": 2,
     "metadata": {},
     "output_type": "execute_result"
    }
   ],
   "source": [
    "strSample.capitalize()\n",
    "#returns the string with it's first character capatilized and rest lowercase"
   ]
  },
  {
   "cell_type": "code",
   "execution_count": 3,
   "id": "7c09611c",
   "metadata": {},
   "outputs": [
    {
     "data": {
      "text/plain": [
       "'Learning Is Fun !'"
      ]
     },
     "execution_count": 3,
     "metadata": {},
     "output_type": "execute_result"
    }
   ],
   "source": [
    "strSample.title() #to capatilize the first element of each word"
   ]
  },
  {
   "cell_type": "code",
   "execution_count": 4,
   "id": "163a7f69",
   "metadata": {},
   "outputs": [
    {
     "data": {
      "text/plain": [
       "'LEARNING IS FUN !'"
      ]
     },
     "execution_count": 4,
     "metadata": {},
     "output_type": "execute_result"
    }
   ],
   "source": [
    "strSample.swapcase() #to swap the case of strings"
   ]
  },
  {
   "cell_type": "code",
   "execution_count": 5,
   "id": "a6f37a0c",
   "metadata": {},
   "outputs": [
    {
     "data": {
      "text/plain": [
       "4"
      ]
     },
     "execution_count": 5,
     "metadata": {},
     "output_type": "execute_result"
    }
   ],
   "source": [
    "strSample.find('n')"
   ]
  },
  {
   "cell_type": "code",
   "execution_count": 6,
   "id": "105a2585",
   "metadata": {},
   "outputs": [
    {
     "data": {
      "text/plain": [
       "2"
      ]
     },
     "execution_count": 6,
     "metadata": {},
     "output_type": "execute_result"
    }
   ],
   "source": [
    "strSample.find('a')"
   ]
  },
  {
   "cell_type": "code",
   "execution_count": 7,
   "id": "9afcf21d",
   "metadata": {},
   "outputs": [
    {
     "data": {
      "text/plain": [
       "'learning is joyful !'"
      ]
     },
     "execution_count": 7,
     "metadata": {},
     "output_type": "execute_result"
    }
   ],
   "source": [
    "strSample.replace('fun','joyful') #to replace the letters/word"
   ]
  },
  {
   "cell_type": "code",
   "execution_count": 8,
   "id": "76613a0b",
   "metadata": {},
   "outputs": [
    {
     "data": {
      "text/plain": [
       "False"
      ]
     },
     "execution_count": 8,
     "metadata": {},
     "output_type": "execute_result"
    }
   ],
   "source": [
    "strSample.isalnum() #returns true if all bytes in the sequence are\n",
    "                    #alphabetical ASCII characters or ASCII decimal digits,\n",
    "                    #false otherwise"
   ]
  },
  {
   "cell_type": "code",
   "execution_count": 9,
   "id": "8dd5d87d",
   "metadata": {},
   "outputs": [],
   "source": [
    "name1='GITAA'\n",
    "name2='Pvt'\n",
    "name3='Ltd'"
   ]
  },
  {
   "cell_type": "code",
   "execution_count": 10,
   "id": "3afd6509",
   "metadata": {},
   "outputs": [
    {
     "name": "stdout",
     "output_type": "stream",
     "text": [
      "GITAA.Pvt.Ltd.\n"
     ]
    }
   ],
   "source": [
    "name='{}.{}.{}.'.format(name1,name2,name3)\n",
    "print(name)"
   ]
  },
  {
   "cell_type": "code",
   "execution_count": 11,
   "id": "b3e6b112",
   "metadata": {},
   "outputs": [
    {
     "name": "stdout",
     "output_type": "stream",
     "text": [
      "GITAA_Pvt$Ltd#\n"
     ]
    }
   ],
   "source": [
    "name_1='{}_{}${}#'.format(name1,name2,name3)\n",
    "print(name_1)"
   ]
  },
  {
   "cell_type": "code",
   "execution_count": 12,
   "id": "e7526cd4",
   "metadata": {},
   "outputs": [
    {
     "name": "stdout",
     "output_type": "stream",
     "text": [
      "Help on class str in module builtins:\n",
      "\n",
      "class str(object)\n",
      " |  str(object='') -> str\n",
      " |  str(bytes_or_buffer[, encoding[, errors]]) -> str\n",
      " |  \n",
      " |  Create a new string object from the given object. If encoding or\n",
      " |  errors is specified, then the object must expose a data buffer\n",
      " |  that will be decoded using the given encoding and error handler.\n",
      " |  Otherwise, returns the result of object.__str__() (if defined)\n",
      " |  or repr(object).\n",
      " |  encoding defaults to sys.getdefaultencoding().\n",
      " |  errors defaults to 'strict'.\n",
      " |  \n",
      " |  Methods defined here:\n",
      " |  \n",
      " |  __add__(self, value, /)\n",
      " |      Return self+value.\n",
      " |  \n",
      " |  __contains__(self, key, /)\n",
      " |      Return key in self.\n",
      " |  \n",
      " |  __eq__(self, value, /)\n",
      " |      Return self==value.\n",
      " |  \n",
      " |  __format__(self, format_spec, /)\n",
      " |      Return a formatted version of the string as described by format_spec.\n",
      " |  \n",
      " |  __ge__(self, value, /)\n",
      " |      Return self>=value.\n",
      " |  \n",
      " |  __getattribute__(self, name, /)\n",
      " |      Return getattr(self, name).\n",
      " |  \n",
      " |  __getitem__(self, key, /)\n",
      " |      Return self[key].\n",
      " |  \n",
      " |  __getnewargs__(...)\n",
      " |  \n",
      " |  __gt__(self, value, /)\n",
      " |      Return self>value.\n",
      " |  \n",
      " |  __hash__(self, /)\n",
      " |      Return hash(self).\n",
      " |  \n",
      " |  __iter__(self, /)\n",
      " |      Implement iter(self).\n",
      " |  \n",
      " |  __le__(self, value, /)\n",
      " |      Return self<=value.\n",
      " |  \n",
      " |  __len__(self, /)\n",
      " |      Return len(self).\n",
      " |  \n",
      " |  __lt__(self, value, /)\n",
      " |      Return self<value.\n",
      " |  \n",
      " |  __mod__(self, value, /)\n",
      " |      Return self%value.\n",
      " |  \n",
      " |  __mul__(self, value, /)\n",
      " |      Return self*value.\n",
      " |  \n",
      " |  __ne__(self, value, /)\n",
      " |      Return self!=value.\n",
      " |  \n",
      " |  __repr__(self, /)\n",
      " |      Return repr(self).\n",
      " |  \n",
      " |  __rmod__(self, value, /)\n",
      " |      Return value%self.\n",
      " |  \n",
      " |  __rmul__(self, value, /)\n",
      " |      Return value*self.\n",
      " |  \n",
      " |  __sizeof__(self, /)\n",
      " |      Return the size of the string in memory, in bytes.\n",
      " |  \n",
      " |  __str__(self, /)\n",
      " |      Return str(self).\n",
      " |  \n",
      " |  capitalize(self, /)\n",
      " |      Return a capitalized version of the string.\n",
      " |      \n",
      " |      More specifically, make the first character have upper case and the rest lower\n",
      " |      case.\n",
      " |  \n",
      " |  casefold(self, /)\n",
      " |      Return a version of the string suitable for caseless comparisons.\n",
      " |  \n",
      " |  center(self, width, fillchar=' ', /)\n",
      " |      Return a centered string of length width.\n",
      " |      \n",
      " |      Padding is done using the specified fill character (default is a space).\n",
      " |  \n",
      " |  count(...)\n",
      " |      S.count(sub[, start[, end]]) -> int\n",
      " |      \n",
      " |      Return the number of non-overlapping occurrences of substring sub in\n",
      " |      string S[start:end].  Optional arguments start and end are\n",
      " |      interpreted as in slice notation.\n",
      " |  \n",
      " |  encode(self, /, encoding='utf-8', errors='strict')\n",
      " |      Encode the string using the codec registered for encoding.\n",
      " |      \n",
      " |      encoding\n",
      " |        The encoding in which to encode the string.\n",
      " |      errors\n",
      " |        The error handling scheme to use for encoding errors.\n",
      " |        The default is 'strict' meaning that encoding errors raise a\n",
      " |        UnicodeEncodeError.  Other possible values are 'ignore', 'replace' and\n",
      " |        'xmlcharrefreplace' as well as any other name registered with\n",
      " |        codecs.register_error that can handle UnicodeEncodeErrors.\n",
      " |  \n",
      " |  endswith(...)\n",
      " |      S.endswith(suffix[, start[, end]]) -> bool\n",
      " |      \n",
      " |      Return True if S ends with the specified suffix, False otherwise.\n",
      " |      With optional start, test S beginning at that position.\n",
      " |      With optional end, stop comparing S at that position.\n",
      " |      suffix can also be a tuple of strings to try.\n",
      " |  \n",
      " |  expandtabs(self, /, tabsize=8)\n",
      " |      Return a copy where all tab characters are expanded using spaces.\n",
      " |      \n",
      " |      If tabsize is not given, a tab size of 8 characters is assumed.\n",
      " |  \n",
      " |  find(...)\n",
      " |      S.find(sub[, start[, end]]) -> int\n",
      " |      \n",
      " |      Return the lowest index in S where substring sub is found,\n",
      " |      such that sub is contained within S[start:end].  Optional\n",
      " |      arguments start and end are interpreted as in slice notation.\n",
      " |      \n",
      " |      Return -1 on failure.\n",
      " |  \n",
      " |  format(...)\n",
      " |      S.format(*args, **kwargs) -> str\n",
      " |      \n",
      " |      Return a formatted version of S, using substitutions from args and kwargs.\n",
      " |      The substitutions are identified by braces ('{' and '}').\n",
      " |  \n",
      " |  format_map(...)\n",
      " |      S.format_map(mapping) -> str\n",
      " |      \n",
      " |      Return a formatted version of S, using substitutions from mapping.\n",
      " |      The substitutions are identified by braces ('{' and '}').\n",
      " |  \n",
      " |  index(...)\n",
      " |      S.index(sub[, start[, end]]) -> int\n",
      " |      \n",
      " |      Return the lowest index in S where substring sub is found,\n",
      " |      such that sub is contained within S[start:end].  Optional\n",
      " |      arguments start and end are interpreted as in slice notation.\n",
      " |      \n",
      " |      Raises ValueError when the substring is not found.\n",
      " |  \n",
      " |  isalnum(self, /)\n",
      " |      Return True if the string is an alpha-numeric string, False otherwise.\n",
      " |      \n",
      " |      A string is alpha-numeric if all characters in the string are alpha-numeric and\n",
      " |      there is at least one character in the string.\n",
      " |  \n",
      " |  isalpha(self, /)\n",
      " |      Return True if the string is an alphabetic string, False otherwise.\n",
      " |      \n",
      " |      A string is alphabetic if all characters in the string are alphabetic and there\n",
      " |      is at least one character in the string.\n",
      " |  \n",
      " |  isascii(self, /)\n",
      " |      Return True if all characters in the string are ASCII, False otherwise.\n",
      " |      \n",
      " |      ASCII characters have code points in the range U+0000-U+007F.\n",
      " |      Empty string is ASCII too.\n",
      " |  \n",
      " |  isdecimal(self, /)\n",
      " |      Return True if the string is a decimal string, False otherwise.\n",
      " |      \n",
      " |      A string is a decimal string if all characters in the string are decimal and\n",
      " |      there is at least one character in the string.\n",
      " |  \n",
      " |  isdigit(self, /)\n",
      " |      Return True if the string is a digit string, False otherwise.\n",
      " |      \n",
      " |      A string is a digit string if all characters in the string are digits and there\n",
      " |      is at least one character in the string.\n",
      " |  \n",
      " |  isidentifier(self, /)\n",
      " |      Return True if the string is a valid Python identifier, False otherwise.\n",
      " |      \n",
      " |      Call keyword.iskeyword(s) to test whether string s is a reserved identifier,\n",
      " |      such as \"def\" or \"class\".\n",
      " |  \n",
      " |  islower(self, /)\n",
      " |      Return True if the string is a lowercase string, False otherwise.\n",
      " |      \n",
      " |      A string is lowercase if all cased characters in the string are lowercase and\n",
      " |      there is at least one cased character in the string.\n",
      " |  \n",
      " |  isnumeric(self, /)\n",
      " |      Return True if the string is a numeric string, False otherwise.\n",
      " |      \n",
      " |      A string is numeric if all characters in the string are numeric and there is at\n",
      " |      least one character in the string.\n",
      " |  \n",
      " |  isprintable(self, /)\n",
      " |      Return True if the string is printable, False otherwise.\n",
      " |      \n",
      " |      A string is printable if all of its characters are considered printable in\n",
      " |      repr() or if it is empty.\n",
      " |  \n",
      " |  isspace(self, /)\n",
      " |      Return True if the string is a whitespace string, False otherwise.\n",
      " |      \n",
      " |      A string is whitespace if all characters in the string are whitespace and there\n",
      " |      is at least one character in the string.\n",
      " |  \n",
      " |  istitle(self, /)\n",
      " |      Return True if the string is a title-cased string, False otherwise.\n",
      " |      \n",
      " |      In a title-cased string, upper- and title-case characters may only\n",
      " |      follow uncased characters and lowercase characters only cased ones.\n",
      " |  \n",
      " |  isupper(self, /)\n",
      " |      Return True if the string is an uppercase string, False otherwise.\n",
      " |      \n",
      " |      A string is uppercase if all cased characters in the string are uppercase and\n",
      " |      there is at least one cased character in the string.\n",
      " |  \n",
      " |  join(self, iterable, /)\n",
      " |      Concatenate any number of strings.\n",
      " |      \n",
      " |      The string whose method is called is inserted in between each given string.\n",
      " |      The result is returned as a new string.\n",
      " |      \n",
      " |      Example: '.'.join(['ab', 'pq', 'rs']) -> 'ab.pq.rs'\n",
      " |  \n",
      " |  ljust(self, width, fillchar=' ', /)\n",
      " |      Return a left-justified string of length width.\n",
      " |      \n",
      " |      Padding is done using the specified fill character (default is a space).\n",
      " |  \n",
      " |  lower(self, /)\n",
      " |      Return a copy of the string converted to lowercase.\n",
      " |  \n",
      " |  lstrip(self, chars=None, /)\n",
      " |      Return a copy of the string with leading whitespace removed.\n",
      " |      \n",
      " |      If chars is given and not None, remove characters in chars instead.\n",
      " |  \n",
      " |  partition(self, sep, /)\n",
      " |      Partition the string into three parts using the given separator.\n",
      " |      \n",
      " |      This will search for the separator in the string.  If the separator is found,\n",
      " |      returns a 3-tuple containing the part before the separator, the separator\n",
      " |      itself, and the part after it.\n",
      " |      \n",
      " |      If the separator is not found, returns a 3-tuple containing the original string\n",
      " |      and two empty strings.\n",
      " |  \n",
      " |  replace(self, old, new, count=-1, /)\n",
      " |      Return a copy with all occurrences of substring old replaced by new.\n",
      " |      \n",
      " |        count\n",
      " |          Maximum number of occurrences to replace.\n",
      " |          -1 (the default value) means replace all occurrences.\n",
      " |      \n",
      " |      If the optional argument count is given, only the first count occurrences are\n",
      " |      replaced.\n",
      " |  \n",
      " |  rfind(...)\n",
      " |      S.rfind(sub[, start[, end]]) -> int\n",
      " |      \n",
      " |      Return the highest index in S where substring sub is found,\n",
      " |      such that sub is contained within S[start:end].  Optional\n",
      " |      arguments start and end are interpreted as in slice notation.\n",
      " |      \n",
      " |      Return -1 on failure.\n",
      " |  \n",
      " |  rindex(...)\n",
      " |      S.rindex(sub[, start[, end]]) -> int\n",
      " |      \n",
      " |      Return the highest index in S where substring sub is found,\n",
      " |      such that sub is contained within S[start:end].  Optional\n",
      " |      arguments start and end are interpreted as in slice notation.\n",
      " |      \n",
      " |      Raises ValueError when the substring is not found.\n",
      " |  \n",
      " |  rjust(self, width, fillchar=' ', /)\n",
      " |      Return a right-justified string of length width.\n",
      " |      \n",
      " |      Padding is done using the specified fill character (default is a space).\n",
      " |  \n",
      " |  rpartition(self, sep, /)\n",
      " |      Partition the string into three parts using the given separator.\n",
      " |      \n",
      " |      This will search for the separator in the string, starting at the end. If\n",
      " |      the separator is found, returns a 3-tuple containing the part before the\n",
      " |      separator, the separator itself, and the part after it.\n",
      " |      \n",
      " |      If the separator is not found, returns a 3-tuple containing two empty strings\n",
      " |      and the original string.\n",
      " |  \n",
      " |  rsplit(self, /, sep=None, maxsplit=-1)\n",
      " |      Return a list of the words in the string, using sep as the delimiter string.\n",
      " |      \n",
      " |        sep\n",
      " |          The delimiter according which to split the string.\n",
      " |          None (the default value) means split according to any whitespace,\n",
      " |          and discard empty strings from the result.\n",
      " |        maxsplit\n",
      " |          Maximum number of splits to do.\n",
      " |          -1 (the default value) means no limit.\n",
      " |      \n",
      " |      Splits are done starting at the end of the string and working to the front.\n",
      " |  \n",
      " |  rstrip(self, chars=None, /)\n",
      " |      Return a copy of the string with trailing whitespace removed.\n",
      " |      \n",
      " |      If chars is given and not None, remove characters in chars instead.\n",
      " |  \n",
      " |  split(self, /, sep=None, maxsplit=-1)\n",
      " |      Return a list of the words in the string, using sep as the delimiter string.\n",
      " |      \n",
      " |      sep\n",
      " |        The delimiter according which to split the string.\n",
      " |        None (the default value) means split according to any whitespace,\n",
      " |        and discard empty strings from the result.\n",
      " |      maxsplit\n",
      " |        Maximum number of splits to do.\n",
      " |        -1 (the default value) means no limit.\n",
      " |  \n",
      " |  splitlines(self, /, keepends=False)\n",
      " |      Return a list of the lines in the string, breaking at line boundaries.\n",
      " |      \n",
      " |      Line breaks are not included in the resulting list unless keepends is given and\n",
      " |      true.\n",
      " |  \n",
      " |  startswith(...)\n",
      " |      S.startswith(prefix[, start[, end]]) -> bool\n",
      " |      \n",
      " |      Return True if S starts with the specified prefix, False otherwise.\n",
      " |      With optional start, test S beginning at that position.\n",
      " |      With optional end, stop comparing S at that position.\n",
      " |      prefix can also be a tuple of strings to try.\n",
      " |  \n",
      " |  strip(self, chars=None, /)\n",
      " |      Return a copy of the string with leading and trailing whitespace removed.\n",
      " |      \n",
      " |      If chars is given and not None, remove characters in chars instead.\n",
      " |  \n",
      " |  swapcase(self, /)\n",
      " |      Convert uppercase characters to lowercase and lowercase characters to uppercase.\n",
      " |  \n",
      " |  title(self, /)\n",
      " |      Return a version of the string where each word is titlecased.\n",
      " |      \n",
      " |      More specifically, words start with uppercased characters and all remaining\n",
      " |      cased characters have lower case.\n",
      " |  \n",
      " |  translate(self, table, /)\n",
      " |      Replace each character in the string using the given translation table.\n",
      " |      \n",
      " |        table\n",
      " |          Translation table, which must be a mapping of Unicode ordinals to\n",
      " |          Unicode ordinals, strings, or None.\n",
      " |      \n",
      " |      The table must implement lookup/indexing via __getitem__, for instance a\n",
      " |      dictionary or list.  If this operation raises LookupError, the character is\n",
      " |      left untouched.  Characters mapped to None are deleted.\n",
      " |  \n",
      " |  upper(self, /)\n",
      " |      Return a copy of the string converted to uppercase.\n",
      " |  \n",
      " |  zfill(self, width, /)\n",
      " |      Pad a numeric string with zeros on the left, to fill a field of the given width.\n",
      " |      \n",
      " |      The string is never truncated.\n",
      " |  \n",
      " |  ----------------------------------------------------------------------\n",
      " |  Static methods defined here:\n",
      " |  \n",
      " |  __new__(*args, **kwargs) from builtins.type\n",
      " |      Create and return a new object.  See help(type) for accurate signature.\n",
      " |  \n",
      " |  maketrans(...)\n",
      " |      Return a translation table usable for str.translate().\n",
      " |      \n",
      " |      If there is only one argument, it must be a dictionary mapping Unicode\n",
      " |      ordinals (integers) or characters to Unicode ordinals, strings or None.\n",
      " |      Character keys will be then converted to ordinals.\n",
      " |      If there are two arguments, they must be strings of equal length, and\n",
      " |      in the resulting dictionary, each character in x will be mapped to the\n",
      " |      character at the same position in y. If there is a third argument, it\n",
      " |      must be a string, whose characters will be mapped to None in the result.\n",
      "\n",
      "None\n"
     ]
    }
   ],
   "source": [
    "print(help(str))"
   ]
  },
  {
   "cell_type": "code",
   "execution_count": 13,
   "id": "c140f922",
   "metadata": {},
   "outputs": [],
   "source": [
    "strSample='learning is fun' #STRING\n",
    "lstSample=[1,2,'a','sam',2] #LIST"
   ]
  },
  {
   "cell_type": "code",
   "execution_count": 14,
   "id": "3d6c964d",
   "metadata": {},
   "outputs": [],
   "source": [
    "from array import *\n",
    "arrSample=array('i',[1,2,3,4,5]) #ARRAY\n",
    "tupSample=(1,2,3,4,3,'py')  #TUPLE"
   ]
  },
  {
   "cell_type": "code",
   "execution_count": 15,
   "id": "3ebe2eec",
   "metadata": {},
   "outputs": [],
   "source": [
    "dictSample={1:'first','second':2,3:3,'four':'4'} #dictionary"
   ]
  },
  {
   "cell_type": "code",
   "execution_count": 16,
   "id": "6c788b50",
   "metadata": {},
   "outputs": [
    {
     "name": "stdout",
     "output_type": "stream",
     "text": [
      "range(1, 12, 4)\n"
     ]
    }
   ],
   "source": [
    "rangeSample=range(1,12,4) #built in sequence type for looping\n",
    "print(rangeSample)"
   ]
  },
  {
   "cell_type": "code",
   "execution_count": 17,
   "id": "a7740be9",
   "metadata": {},
   "outputs": [
    {
     "name": "stdout",
     "output_type": "stream",
     "text": [
      "1\n",
      "5\n",
      "9\n"
     ]
    }
   ],
   "source": [
    "for x in rangeSample:\n",
    "    print(x)"
   ]
  },
  {
   "cell_type": "code",
   "execution_count": 18,
   "id": "d67cd23c",
   "metadata": {},
   "outputs": [],
   "source": [
    "setSample={'example',24,87.5,'data',24,'data'} #set\n",
    "keys={1,'second',3,'third'}"
   ]
  },
  {
   "cell_type": "code",
   "execution_count": 20,
   "id": "229274a1",
   "metadata": {},
   "outputs": [
    {
     "name": "stdout",
     "output_type": "stream",
     "text": [
      "No. of elements in the object: \n",
      "string=15,list=5,array=5,tuple=6,\t dictionary=4,set=4,range=3\n"
     ]
    }
   ],
   "source": [
    "print(\"No. of elements in the object: \")\n",
    "print(\"string={},list={},array={},tuple={},\\t dictionary={},set={},range={}\".format(len(strSample),len(lstSample),\n",
    "len(arrSample),len(tupSample),len(dictSample),len(setSample),len(rangeSample)))"
   ]
  },
  {
   "cell_type": "code",
   "execution_count": 21,
   "id": "75f835db",
   "metadata": {},
   "outputs": [
    {
     "name": "stdout",
     "output_type": "stream",
     "text": [
      "[1, 2, 'a', 'sam', 2]\n"
     ]
    }
   ],
   "source": [
    "print(lstSample)"
   ]
  },
  {
   "cell_type": "code",
   "execution_count": 22,
   "id": "0e029792",
   "metadata": {},
   "outputs": [
    {
     "name": "stdout",
     "output_type": "stream",
     "text": [
      "[2, 'sam', 'a', 2, 1]\n"
     ]
    }
   ],
   "source": [
    "lstSample.reverse()\n",
    "print(lstSample)"
   ]
  },
  {
   "cell_type": "code",
   "execution_count": 23,
   "id": "a0a0b61c",
   "metadata": {},
   "outputs": [
    {
     "name": "stdout",
     "output_type": "stream",
     "text": [
      "[]\n",
      "{}\n",
      "set()\n"
     ]
    }
   ],
   "source": [
    "#clear() method removes all items from the object\n",
    "#supported sequence data: list,dictionary,set\n",
    "lstSample.clear()\n",
    "print(lstSample)\n",
    "dictSample.clear()\n",
    "print(dictSample)\n",
    "setSample.clear()\n",
    "print(setSample)"
   ]
  },
  {
   "cell_type": "code",
   "execution_count": 24,
   "id": "316bbbce",
   "metadata": {},
   "outputs": [
    {
     "name": "stdout",
     "output_type": "stream",
     "text": [
      "array('i', [1, 2, 3, 4, 5, 3])\n",
      "[]\n",
      "[[2, 4]]\n",
      "{20}\n"
     ]
    }
   ],
   "source": [
    "#append adds an element at the end of the object\n",
    "#supported data types: array, list, set\n",
    "arrSample.append(3)\n",
    "print(arrSample)\n",
    "print(lstSample)\n",
    "lstSample.append([2,4]) #adding [2,4] list to the lstSample\n",
    "print(lstSample)\n",
    "#setSample.append(20)       #attribute error: 'set object has no attribute 'append'\n",
    "setSample.add(20)           #add() takes single parameter(element) which needs to be added in the set\n",
    "print(setSample)"
   ]
  },
  {
   "cell_type": "code",
   "execution_count": 25,
   "id": "0aec2328",
   "metadata": {},
   "outputs": [
    {
     "name": "stdout",
     "output_type": "stream",
     "text": [
      "{10, 20, 5}\n"
     ]
    }
   ],
   "source": [
    "#update() function in set adds elements from set(passed as an argument) to the set\n",
    "#it only takes single argument can be a set, list, tuples or a dictionary\n",
    "#it automatically converts into a set and adds to the set\n",
    "setSample.update([5,10])   #adding list of element to the set\n",
    "print(setSample)           #uodated set"
   ]
  },
  {
   "cell_type": "code",
   "execution_count": 26,
   "id": "a836c833",
   "metadata": {},
   "outputs": [
    {
     "name": "stdout",
     "output_type": "stream",
     "text": [
      "{}\n"
     ]
    }
   ],
   "source": [
    "#Dictionary Methods\n",
    "print(dictSample)"
   ]
  },
  {
   "cell_type": "code",
   "execution_count": 27,
   "id": "9782128e",
   "metadata": {},
   "outputs": [],
   "source": [
    "dictSample={1:'first','second':2,3:3,'four':'4'} #dictionary"
   ]
  },
  {
   "cell_type": "code",
   "execution_count": 28,
   "id": "e03c5e39",
   "metadata": {},
   "outputs": [
    {
     "name": "stdout",
     "output_type": "stream",
     "text": [
      "{1: 'first', 'second': 2, 3: 3, 'four': '4', 'five': 5}\n"
     ]
    }
   ],
   "source": [
    "dictSample[\"five\"]=5\n",
    "print(dictSample)"
   ]
  },
  {
   "cell_type": "code",
   "execution_count": 29,
   "id": "b44a57ca",
   "metadata": {},
   "outputs": [
    {
     "name": "stdout",
     "output_type": "stream",
     "text": [
      "{1: 'first', 'second': 2, 3: 3, 'four': '4', 'five': 5}\n"
     ]
    }
   ],
   "source": [
    "dictSample.update(five=5)   #update the dictionary with the key/value pairs from other,\n",
    "                            #overwriting the keys\n",
    "print(dictSample)           #updated dictionary"
   ]
  },
  {
   "cell_type": "code",
   "execution_count": 30,
   "id": "ef1dea58",
   "metadata": {},
   "outputs": [
    {
     "data": {
      "text/plain": [
       "[1, 'second', 3, 'four', 'five']"
      ]
     },
     "execution_count": 30,
     "metadata": {},
     "output_type": "execute_result"
    }
   ],
   "source": [
    "list(dictSample)          #Returns all keys used in form of a list"
   ]
  },
  {
   "cell_type": "code",
   "execution_count": 31,
   "id": "9656814e",
   "metadata": {},
   "outputs": [
    {
     "data": {
      "text/plain": [
       "5"
      ]
     },
     "execution_count": 31,
     "metadata": {},
     "output_type": "execute_result"
    }
   ],
   "source": [
    "len(dictSample)            #Returns the number of items in the dictionary"
   ]
  },
  {
   "cell_type": "code",
   "execution_count": 32,
   "id": "2c926173",
   "metadata": {},
   "outputs": [
    {
     "data": {
      "text/plain": [
       "5"
      ]
     },
     "execution_count": 32,
     "metadata": {},
     "output_type": "execute_result"
    }
   ],
   "source": [
    "dictSample.get(\"five\")     #it is a conditional method to acces a value for a key"
   ]
  },
  {
   "cell_type": "code",
   "execution_count": 33,
   "id": "db0b30b0",
   "metadata": {},
   "outputs": [
    {
     "data": {
      "text/plain": [
       "dict_keys([1, 'second', 3, 'four', 'five'])"
      ]
     },
     "execution_count": 33,
     "metadata": {},
     "output_type": "execute_result"
    }
   ],
   "source": [
    "dictSample.keys()        #returns a list of keys in dictionary"
   ]
  },
  {
   "cell_type": "code",
   "execution_count": 34,
   "id": "71f99639",
   "metadata": {},
   "outputs": [
    {
     "data": {
      "text/plain": [
       "dict_items([(1, 'first'), ('second', 2), (3, 3), ('four', '4'), ('five', 5)])"
      ]
     },
     "execution_count": 34,
     "metadata": {},
     "output_type": "execute_result"
    }
   ],
   "source": [
    "dictSample.items()     #returns a list of (key,value) tuple pairs"
   ]
  },
  {
   "cell_type": "code",
   "execution_count": 35,
   "id": "f43604cd",
   "metadata": {},
   "outputs": [
    {
     "name": "stdout",
     "output_type": "stream",
     "text": [
      "array('i', [1, 2, 3, 4, 5, 3])\n"
     ]
    }
   ],
   "source": [
    "#insert() inserts the element at the specified index of the object\n",
    "#supported datstypes: array,list\n",
    "print(arrSample)"
   ]
  },
  {
   "cell_type": "code",
   "execution_count": 36,
   "id": "df50cd22",
   "metadata": {},
   "outputs": [
    {
     "name": "stdout",
     "output_type": "stream",
     "text": [
      "array('i', [1, 100, 2, 3, 4, 5, 3])\n"
     ]
    }
   ],
   "source": [
    "arrSample.insert(1,100)  #inserting the element 100 at the 1 index i.e 2nd place\n",
    "print(arrSample)"
   ]
  },
  {
   "cell_type": "code",
   "execution_count": 37,
   "id": "db08df20",
   "metadata": {},
   "outputs": [
    {
     "name": "stdout",
     "output_type": "stream",
     "text": [
      "[[2, 4], 24]\n"
     ]
    }
   ],
   "source": [
    "lstSample.insert(5,24)   #inserting the element 24 at 5th position\n",
    "print(lstSample)         #printing list"
   ]
  },
  {
   "cell_type": "code",
   "execution_count": 39,
   "id": "44dfa3ab",
   "metadata": {},
   "outputs": [
    {
     "name": "stdout",
     "output_type": "stream",
     "text": [
      "array('i', [1, 100, 2, 3, 4])\n"
     ]
    }
   ],
   "source": [
    "#pop() removes the elemnet at the given index from the object and prints the same\n",
    "#default value is -1, which is the last item\n",
    "#supported datatypes: array,list,set, dictionary\n",
    "arrSample.pop()\n",
    "print(arrSample)"
   ]
  },
  {
   "cell_type": "code",
   "execution_count": 40,
   "id": "a40bfd0c",
   "metadata": {},
   "outputs": [
    {
     "name": "stdout",
     "output_type": "stream",
     "text": [
      "[[2, 4], 24]\n",
      "[[2, 4]]\n"
     ]
    }
   ],
   "source": [
    "print(lstSample)\n",
    "lstSample.pop(1)    #deleting the 2nd element from the list\n",
    "print(lstSample)"
   ]
  },
  {
   "cell_type": "code",
   "execution_count": 41,
   "id": "6117f8be",
   "metadata": {},
   "outputs": [
    {
     "name": "stdout",
     "output_type": "stream",
     "text": [
      "{1: 'first', 'second': 2, 3: 3, 'four': '4', 'five': 5}\n"
     ]
    },
    {
     "data": {
      "text/plain": [
       "2"
      ]
     },
     "execution_count": 41,
     "metadata": {},
     "output_type": "execute_result"
    }
   ],
   "source": [
    "print(dictSample)\n",
    "dictSample.pop('second')       #deleting the key second"
   ]
  },
  {
   "cell_type": "code",
   "execution_count": 42,
   "id": "0a50d7a6",
   "metadata": {},
   "outputs": [
    {
     "name": "stdout",
     "output_type": "stream",
     "text": [
      "{1: 'first', 3: 3, 'four': '4', 'five': 5}\n"
     ]
    }
   ],
   "source": [
    "print(dictSample)"
   ]
  },
  {
   "cell_type": "code",
   "execution_count": null,
   "id": "2f9f84cf",
   "metadata": {},
   "outputs": [],
   "source": []
  },
  {
   "cell_type": "code",
   "execution_count": 43,
   "id": "2c1d33d7",
   "metadata": {},
   "outputs": [
    {
     "name": "stdout",
     "output_type": "stream",
     "text": [
      "{1: 'first', 'four': '4', 'five': 5}\n"
     ]
    }
   ],
   "source": [
    "dictSample.pop(3)           #deleting the key 3\n",
    "print(dictSample)"
   ]
  },
  {
   "cell_type": "code",
   "execution_count": 46,
   "id": "7721fc8f",
   "metadata": {},
   "outputs": [
    {
     "name": "stdout",
     "output_type": "stream",
     "text": [
      "array('i', [1, 100, 2, 3, 4])\n"
     ]
    }
   ],
   "source": [
    "#set is an unordered sequence and hence pop is usually not used\n",
    "#remove() method removed the first occurrence of the element with the specified value\n",
    "#supported datatypes: array, list, dictionary and set\n",
    "print(arrSample)\n",
    "#arrSample.remove(0)     #value error:  array.remove(x): x not in array\n",
    "arrSample.remove(2)"
   ]
  },
  {
   "cell_type": "code",
   "execution_count": 47,
   "id": "91b66960",
   "metadata": {},
   "outputs": [
    {
     "data": {
      "text/plain": [
       "array('i', [1, 100, 3, 4])"
      ]
     },
     "execution_count": 47,
     "metadata": {},
     "output_type": "execute_result"
    }
   ],
   "source": [
    "arrSample"
   ]
  },
  {
   "cell_type": "code",
   "execution_count": 51,
   "id": "26aba8f5",
   "metadata": {},
   "outputs": [
    {
     "data": {
      "text/plain": [
       "array('i', [1, 3, 4])"
      ]
     },
     "execution_count": 51,
     "metadata": {},
     "output_type": "execute_result"
    }
   ],
   "source": [
    "arrSample.remove(100)\n",
    "arrSample"
   ]
  },
  {
   "cell_type": "code",
   "execution_count": 58,
   "id": "7c1c4450",
   "metadata": {},
   "outputs": [
    {
     "name": "stdout",
     "output_type": "stream",
     "text": [
      "[[2, 4], 1, 'sam', 1]\n",
      "[[2, 4], 1, 1]\n"
     ]
    }
   ],
   "source": [
    "lstSample.append('sam')\n",
    "lstSample.append(1)\n",
    "print(lstSample)\n",
    "lstSample.remove('sam')     #removes the element 'sam' from the list\n",
    "print(lstSample)"
   ]
  },
  {
   "cell_type": "code",
   "execution_count": 59,
   "id": "02136302",
   "metadata": {},
   "outputs": [
    {
     "name": "stdout",
     "output_type": "stream",
     "text": [
      "{10, 20, 5}\n"
     ]
    }
   ],
   "source": [
    "print(setSample)"
   ]
  },
  {
   "cell_type": "code",
   "execution_count": 60,
   "id": "adff228d",
   "metadata": {},
   "outputs": [
    {
     "name": "stdout",
     "output_type": "stream",
     "text": [
      "{10, 20}\n"
     ]
    }
   ],
   "source": [
    "setSample.remove(5)\n",
    "print(setSample)          #Key error: 57"
   ]
  },
  {
   "cell_type": "code",
   "execution_count": 61,
   "id": "e3a907f3",
   "metadata": {},
   "outputs": [
    {
     "ename": "NameError",
     "evalue": "name 'setSample' is not defined",
     "output_type": "error",
     "traceback": [
      "\u001b[1;31m---------------------------------------------------------------------------\u001b[0m",
      "\u001b[1;31mNameError\u001b[0m                                 Traceback (most recent call last)",
      "\u001b[1;32m<ipython-input-61-cd24f64146a0>\u001b[0m in \u001b[0;36m<module>\u001b[1;34m\u001b[0m\n\u001b[0;32m      3\u001b[0m \u001b[1;31m#obj_name can be variable, user-defined objects, list, items within list, dictionaries etc.\u001b[0m\u001b[1;33m\u001b[0m\u001b[1;33m\u001b[0m\u001b[1;33m\u001b[0m\u001b[0m\n\u001b[0;32m      4\u001b[0m \u001b[1;32mdel\u001b[0m \u001b[0msetSample\u001b[0m\u001b[1;33m\u001b[0m\u001b[1;33m\u001b[0m\u001b[0m\n\u001b[1;32m----> 5\u001b[1;33m \u001b[0mprint\u001b[0m\u001b[1;33m(\u001b[0m\u001b[0msetSample\u001b[0m\u001b[1;33m)\u001b[0m\u001b[1;33m\u001b[0m\u001b[1;33m\u001b[0m\u001b[0m\n\u001b[0m",
      "\u001b[1;31mNameError\u001b[0m: name 'setSample' is not defined"
     ]
    }
   ],
   "source": [
    "#del: deletes the entire object of any data type\n",
    "#Syntax: del is a python key word\n",
    "#obj_name can be variable, user-defined objects, list, items within list, dictionaries etc.\n",
    "del setSample\n",
    "print(setSample)      #Name Error: name setSample is not defined"
   ]
  },
  {
   "cell_type": "code",
   "execution_count": 62,
   "id": "7c8fde9d",
   "metadata": {},
   "outputs": [
    {
     "data": {
      "text/plain": [
       "[[2, 4], 1, 1]"
      ]
     },
     "execution_count": 62,
     "metadata": {},
     "output_type": "execute_result"
    }
   ],
   "source": [
    "lstSample\n"
   ]
  },
  {
   "cell_type": "code",
   "execution_count": 64,
   "id": "f20a9a61",
   "metadata": {},
   "outputs": [
    {
     "name": "stdout",
     "output_type": "stream",
     "text": [
      "[[2, 4], 1]\n"
     ]
    }
   ],
   "source": [
    "del lstSample[1:2] #deletes objects from 2 to 3\n",
    "print(lstSample)"
   ]
  },
  {
   "cell_type": "code",
   "execution_count": 65,
   "id": "59d81e65",
   "metadata": {},
   "outputs": [
    {
     "name": "stdout",
     "output_type": "stream",
     "text": [
      "array('i', [1, 3, 4, 4, 5, 3, 5])\n"
     ]
    }
   ],
   "source": [
    "#extend() method adds the specified list elements(or andy iterable- list, set, tuple, etc) to the end of\n",
    "#the current list\n",
    "#array operations\n",
    "arrSample.extend((4,5,3,5))  #add a tuple to the arrSample array:\n",
    "print(arrSample)"
   ]
  },
  {
   "cell_type": "code",
   "execution_count": 66,
   "id": "27d034bd",
   "metadata": {},
   "outputs": [
    {
     "ename": "TypeError",
     "evalue": "'builtin_function_or_method' object is not subscriptable",
     "output_type": "error",
     "traceback": [
      "\u001b[1;31m---------------------------------------------------------------------------\u001b[0m",
      "\u001b[1;31mTypeError\u001b[0m                                 Traceback (most recent call last)",
      "\u001b[1;32m<ipython-input-66-c28414f02db6>\u001b[0m in \u001b[0;36m<module>\u001b[1;34m\u001b[0m\n\u001b[1;32m----> 1\u001b[1;33m \u001b[0mprint\u001b[0m\u001b[1;33m(\u001b[0m\u001b[1;33m(\u001b[0m\u001b[0marrSample\u001b[0m\u001b[1;33m.\u001b[0m\u001b[0mextend\u001b[0m\u001b[1;33m[\u001b[0m\u001b[1;34m'sam'\u001b[0m\u001b[1;33m]\u001b[0m\u001b[1;33m)\u001b[0m\u001b[1;33m)\u001b[0m \u001b[1;31m#Type Error: an integer is required (got type str) should match with\u001b[0m\u001b[1;33m\u001b[0m\u001b[1;33m\u001b[0m\u001b[0m\n\u001b[0m\u001b[0;32m      2\u001b[0m \u001b[1;31m#the itemcode of the array\u001b[0m\u001b[1;33m\u001b[0m\u001b[1;33m\u001b[0m\u001b[1;33m\u001b[0m\u001b[0m\n",
      "\u001b[1;31mTypeError\u001b[0m: 'builtin_function_or_method' object is not subscriptable"
     ]
    }
   ],
   "source": [
    "print((arrSample.extend['sam'])) #Type Error: an integer is required (got type str) should match with\n",
    "#the itemcode of the array"
   ]
  },
  {
   "cell_type": "code",
   "execution_count": 67,
   "id": "730523bd",
   "metadata": {},
   "outputs": [
    {
     "name": "stdout",
     "output_type": "stream",
     "text": [
      "array('i', [1, 3, 4, 4, 5, 3, 5, 3, 4])\n"
     ]
    },
    {
     "data": {
      "text/plain": [
       "[1, 3, 4, 4, 5, 3, 5, 3, 4]"
      ]
     },
     "execution_count": 67,
     "metadata": {},
     "output_type": "execute_result"
    }
   ],
   "source": [
    "arrSample.fromlist([3,4])      #add values from a list to an array \n",
    "print(arrSample)\n",
    "\n",
    "arrSample.tolist()            #to convert an array into an ordinary list with the same items\n"
   ]
  },
  {
   "cell_type": "code",
   "execution_count": 68,
   "id": "48c4b4ce",
   "metadata": {},
   "outputs": [],
   "source": [
    "def numbers(n):\n",
    "    return[i for i in range(1,n+1)]"
   ]
  },
  {
   "cell_type": "code",
   "execution_count": 69,
   "id": "840f920e",
   "metadata": {},
   "outputs": [
    {
     "data": {
      "text/plain": [
       "[1, 2, 3, 4, 5, 6, 7, 8, 9, 10]"
      ]
     },
     "execution_count": 69,
     "metadata": {},
     "output_type": "execute_result"
    }
   ],
   "source": [
    "numbers(10)"
   ]
  },
  {
   "cell_type": "code",
   "execution_count": 71,
   "id": "b4c5834c",
   "metadata": {},
   "outputs": [
    {
     "name": "stdout",
     "output_type": "stream",
     "text": [
      "{'data', 87.5, 24, 'example'}\n",
      "{24, 87.5}\n"
     ]
    },
    {
     "data": {
      "text/plain": [
       "{24, 87.5}"
      ]
     },
     "execution_count": 71,
     "metadata": {},
     "output_type": "execute_result"
    }
   ],
   "source": [
    "#set operations\n",
    "#a set is un ordered collection of items\n",
    "#every item is unique(no duplicates)\n",
    "#Sets can be used to perform mathematical set operations like union, intersection, symmertric difference \n",
    "#etc\n",
    "A={'example',24,87.5,'data',24,'data'}\n",
    "B={24,87.5}\n",
    "print(A | B) #union of two elements\n",
    "A.union(B) #using union on B\n",
    "print(A & B) #intersection of two elements\n",
    "A.intersection(B)"
   ]
  },
  {
   "cell_type": "code",
   "execution_count": 72,
   "id": "833e64be",
   "metadata": {},
   "outputs": [],
   "source": [
    "strSample='learning'"
   ]
  },
  {
   "cell_type": "code",
   "execution_count": 73,
   "id": "d36047ae",
   "metadata": {},
   "outputs": [
    {
     "name": "stdout",
     "output_type": "stream",
     "text": [
      "Collecting pandoc\n",
      "  Downloading pandoc-1.1.0-py3-none-any.whl (27 kB)\n",
      "Requirement already satisfied: ply in c:\\users\\xddddddddddd\\anaconda3\\lib\\site-packages (from pandoc) (3.11)\n",
      "Collecting plumbum\n",
      "  Downloading plumbum-1.7.0-py2.py3-none-any.whl (116 kB)\n",
      "Collecting pypiwin32\n",
      "  Downloading pypiwin32-223-py3-none-any.whl (1.7 kB)\n",
      "Requirement already satisfied: pywin32>=223 in c:\\users\\xddddddddddd\\anaconda3\\lib\\site-packages (from pypiwin32->plumbum->pandoc) (227)\n",
      "Installing collected packages: pypiwin32, plumbum, pandoc\n",
      "Successfully installed pandoc-1.1.0 plumbum-1.7.0 pypiwin32-223\n",
      "Note: you may need to restart the kernel to use updated packages.\n"
     ]
    }
   ],
   "source": [
    "pip install pandoc"
   ]
  },
  {
   "cell_type": "code",
   "execution_count": 74,
   "id": "e09c01e9",
   "metadata": {},
   "outputs": [
    {
     "name": "stdout",
     "output_type": "stream",
     "text": [
      "[1, 2, 3, 3, 3, 4, 5]\n"
     ]
    }
   ],
   "source": [
    "lstNumbers =[1,2,3,3,3,4,5]     #list with numbers\n",
    "print(lstNumbers)               #having only numbers"
   ]
  },
  {
   "cell_type": "code",
   "execution_count": 75,
   "id": "45688696",
   "metadata": {},
   "outputs": [
    {
     "name": "stdout",
     "output_type": "stream",
     "text": [
      "[1, 2, 'a', 'sam', 2]\n"
     ]
    }
   ],
   "source": [
    "lstSample=[1,2,'a','sam',2]   #list with mixed data types\n",
    "print(lstSample)              #having numbers and strings"
   ]
  },
  {
   "cell_type": "code",
   "execution_count": 76,
   "id": "874567fd",
   "metadata": {},
   "outputs": [
    {
     "name": "stdout",
     "output_type": "stream",
     "text": [
      "1\n",
      "2\n",
      "3\n",
      "4\n"
     ]
    }
   ],
   "source": [
    "from array import *               #importing array module\n",
    "arrSample=array('i',[1,2,3,4])    #array\n",
    "for x in arrSample: print(x)      #printing values of array"
   ]
  },
  {
   "cell_type": "code",
   "execution_count": 77,
   "id": "0bfbec01",
   "metadata": {},
   "outputs": [
    {
     "name": "stdout",
     "output_type": "stream",
     "text": [
      "(1, 2, 3, 4, 5, 6, 'py')\n"
     ]
    }
   ],
   "source": [
    "tupleSample=(1,2,3,4,5,6,'py')   #tuple\n",
    "print(tupleSample)"
   ]
  },
  {
   "cell_type": "code",
   "execution_count": 78,
   "id": "a4972eaa",
   "metadata": {},
   "outputs": [
    {
     "name": "stdout",
     "output_type": "stream",
     "text": [
      "(1, 2, 'sample')\n"
     ]
    }
   ],
   "source": [
    "tupleSample=1,2,'sample'        #tuple packing\n",
    "print(tupleSample)"
   ]
  },
  {
   "cell_type": "code",
   "execution_count": 79,
   "id": "764aa3c6",
   "metadata": {},
   "outputs": [
    {
     "ename": "KeyError",
     "evalue": "2",
     "output_type": "error",
     "traceback": [
      "\u001b[1;31m---------------------------------------------------------------------------\u001b[0m",
      "\u001b[1;31mKeyError\u001b[0m                                  Traceback (most recent call last)",
      "\u001b[1;32m<ipython-input-79-882773099afb>\u001b[0m in \u001b[0;36m<module>\u001b[1;34m\u001b[0m\n\u001b[0;32m      1\u001b[0m \u001b[0mdictSample\u001b[0m\u001b[1;33m=\u001b[0m\u001b[1;33m{\u001b[0m\u001b[1;36m1\u001b[0m\u001b[1;33m:\u001b[0m\u001b[1;34m'first'\u001b[0m\u001b[1;33m,\u001b[0m\u001b[1;34m'second'\u001b[0m\u001b[1;33m:\u001b[0m\u001b[1;36m2\u001b[0m\u001b[1;33m,\u001b[0m\u001b[1;36m3\u001b[0m\u001b[1;33m:\u001b[0m\u001b[1;36m3\u001b[0m\u001b[1;33m,\u001b[0m\u001b[1;34m'fourth'\u001b[0m\u001b[1;33m:\u001b[0m\u001b[1;34m'4'\u001b[0m\u001b[1;33m}\u001b[0m \u001b[1;31m#dictionary\u001b[0m\u001b[1;33m\u001b[0m\u001b[1;33m\u001b[0m\u001b[0m\n\u001b[1;32m----> 2\u001b[1;33m \u001b[0mdictSample\u001b[0m\u001b[1;33m[\u001b[0m\u001b[1;36m2\u001b[0m\u001b[1;33m]\u001b[0m                   \u001b[1;31m#KeyError: 2- indexing by values is not applicable in dictionary\u001b[0m\u001b[1;33m\u001b[0m\u001b[1;33m\u001b[0m\u001b[0m\n\u001b[0m",
      "\u001b[1;31mKeyError\u001b[0m: 2"
     ]
    }
   ],
   "source": [
    "dictSample={1:'first','second':2,3:3,'fourth':'4'} #dictionary\n",
    "dictSample[2]                   #KeyError: 2- indexing by values is not applicable in dictionary"
   ]
  },
  {
   "cell_type": "code",
   "execution_count": 81,
   "id": "25fdcdd1",
   "metadata": {},
   "outputs": [
    {
     "data": {
      "text/plain": [
       "'first'"
      ]
     },
     "execution_count": 81,
     "metadata": {},
     "output_type": "execute_result"
    }
   ],
   "source": [
    "dictSample[1]"
   ]
  },
  {
   "cell_type": "code",
   "execution_count": 82,
   "id": "7332876e",
   "metadata": {},
   "outputs": [
    {
     "data": {
      "text/plain": [
       "2"
      ]
     },
     "execution_count": 82,
     "metadata": {},
     "output_type": "execute_result"
    }
   ],
   "source": [
    "dictSample['second']"
   ]
  },
  {
   "cell_type": "code",
   "execution_count": 83,
   "id": "3a5333a6",
   "metadata": {},
   "outputs": [
    {
     "name": "stdout",
     "output_type": "stream",
     "text": [
      "1\n",
      "5\n",
      "9\n"
     ]
    }
   ],
   "source": [
    "rangeSample=range(1,12,4)        #built-in sequence type used for looping\n",
    "for x in rangeSample:\n",
    "    print(x)"
   ]
  },
  {
   "cell_type": "code",
   "execution_count": 84,
   "id": "84b2252d",
   "metadata": {},
   "outputs": [
    {
     "ename": "ValueError",
     "evalue": "0 is not in range",
     "output_type": "error",
     "traceback": [
      "\u001b[1;31m---------------------------------------------------------------------------\u001b[0m",
      "\u001b[1;31mValueError\u001b[0m                                Traceback (most recent call last)",
      "\u001b[1;32m<ipython-input-84-b32a30a65007>\u001b[0m in \u001b[0;36m<module>\u001b[1;34m\u001b[0m\n\u001b[1;32m----> 1\u001b[1;33m \u001b[0mrangeSample\u001b[0m\u001b[1;33m.\u001b[0m\u001b[0mindex\u001b[0m\u001b[1;33m(\u001b[0m\u001b[1;36m0\u001b[0m\u001b[1;33m)\u001b[0m           \u001b[1;31m#Value-Error 0 not in range\u001b[0m\u001b[1;33m\u001b[0m\u001b[1;33m\u001b[0m\u001b[0m\n\u001b[0m",
      "\u001b[1;31mValueError\u001b[0m: 0 is not in range"
     ]
    }
   ],
   "source": [
    "rangeSample.index(0)           #Value-Error 0 not in range"
   ]
  },
  {
   "cell_type": "code",
   "execution_count": 85,
   "id": "742ce6df",
   "metadata": {},
   "outputs": [
    {
     "data": {
      "text/plain": [
       "2"
      ]
     },
     "execution_count": 85,
     "metadata": {},
     "output_type": "execute_result"
    }
   ],
   "source": [
    "rangeSample.index(9)          #to find index of element 1"
   ]
  },
  {
   "cell_type": "code",
   "execution_count": 86,
   "id": "c51d6823",
   "metadata": {},
   "outputs": [
    {
     "data": {
      "text/plain": [
       "5"
      ]
     },
     "execution_count": 86,
     "metadata": {},
     "output_type": "execute_result"
    }
   ],
   "source": [
    "rangeSample[1]               #given index returns the element\n"
   ]
  },
  {
   "cell_type": "code",
   "execution_count": 87,
   "id": "9e3e7c13",
   "metadata": {},
   "outputs": [
    {
     "ename": "IndexError",
     "evalue": "range object index out of range",
     "output_type": "error",
     "traceback": [
      "\u001b[1;31m---------------------------------------------------------------------------\u001b[0m",
      "\u001b[1;31mIndexError\u001b[0m                                Traceback (most recent call last)",
      "\u001b[1;32m<ipython-input-87-7064f82f3db2>\u001b[0m in \u001b[0;36m<module>\u001b[1;34m\u001b[0m\n\u001b[1;32m----> 1\u001b[1;33m \u001b[0mrangeSample\u001b[0m\u001b[1;33m[\u001b[0m\u001b[1;36m9\u001b[0m\u001b[1;33m]\u001b[0m              \u001b[1;31m#Index Error: range object index out of range\u001b[0m\u001b[1;33m\u001b[0m\u001b[1;33m\u001b[0m\u001b[0m\n\u001b[0m",
      "\u001b[1;31mIndexError\u001b[0m: range object index out of range"
     ]
    }
   ],
   "source": [
    "rangeSample[9]              #Index Error: range object index out of range"
   ]
  },
  {
   "cell_type": "code",
   "execution_count": 88,
   "id": "572b53d1",
   "metadata": {},
   "outputs": [
    {
     "data": {
      "text/plain": [
       "'lear'"
      ]
     },
     "execution_count": 88,
     "metadata": {},
     "output_type": "execute_result"
    }
   ],
   "source": [
    "#Sequence data types (Slicing)\n",
    "strSample[slice(4)]         #getting substring 'Lear' from 'Learning'"
   ]
  },
  {
   "cell_type": "code",
   "execution_count": 89,
   "id": "48ec9821",
   "metadata": {},
   "outputs": [
    {
     "data": {
      "text/plain": [
       "'er'"
      ]
     },
     "execution_count": 89,
     "metadata": {},
     "output_type": "execute_result"
    }
   ],
   "source": [
    "strSample[slice(1,4,2)]    #getting substring 'er'"
   ]
  },
  {
   "cell_type": "code",
   "execution_count": 92,
   "id": "96824b38",
   "metadata": {},
   "outputs": [
    {
     "data": {
      "text/plain": [
       "'an'"
      ]
     },
     "execution_count": 92,
     "metadata": {},
     "output_type": "execute_result"
    }
   ],
   "source": [
    "strSample[slice(2,6,2)]"
   ]
  },
  {
   "cell_type": "code",
   "execution_count": 93,
   "id": "e331e7ef",
   "metadata": {},
   "outputs": [
    {
     "data": {
      "text/plain": [
       "'learning'"
      ]
     },
     "execution_count": 93,
     "metadata": {},
     "output_type": "execute_result"
    }
   ],
   "source": [
    "strSample[:]"
   ]
  },
  {
   "cell_type": "code",
   "execution_count": 94,
   "id": "1d9683f3",
   "metadata": {},
   "outputs": [
    {
     "data": {
      "text/plain": [
       "['a', 'sam']"
      ]
     },
     "execution_count": 94,
     "metadata": {},
     "output_type": "execute_result"
    }
   ],
   "source": [
    "lstSample[-3:-1]"
   ]
  },
  {
   "cell_type": "code",
   "execution_count": 95,
   "id": "51febcef",
   "metadata": {},
   "outputs": [
    {
     "ename": "TypeError",
     "evalue": "unhashable type: 'slice'",
     "output_type": "error",
     "traceback": [
      "\u001b[1;31m---------------------------------------------------------------------------\u001b[0m",
      "\u001b[1;31mTypeError\u001b[0m                                 Traceback (most recent call last)",
      "\u001b[1;32m<ipython-input-95-76dcfebc0722>\u001b[0m in \u001b[0;36m<module>\u001b[1;34m\u001b[0m\n\u001b[1;32m----> 1\u001b[1;33m \u001b[0mdictSample\u001b[0m\u001b[1;33m[\u001b[0m\u001b[1;36m1\u001b[0m\u001b[1;33m:\u001b[0m\u001b[1;34m'Second'\u001b[0m\u001b[1;33m]\u001b[0m        \u001b[1;31m#Type Error: unhashable type: slice\u001b[0m\u001b[1;33m\u001b[0m\u001b[1;33m\u001b[0m\u001b[0m\n\u001b[0m",
      "\u001b[1;31mTypeError\u001b[0m: unhashable type: 'slice'"
     ]
    }
   ],
   "source": [
    "dictSample[1:'Second']        #Type Error: unhashable type: slice"
   ]
  },
  {
   "cell_type": "code",
   "execution_count": 98,
   "id": "0954c4f0",
   "metadata": {},
   "outputs": [],
   "source": [
    "setSample={'example',24,87.5,'data',24,'data'} #set\n"
   ]
  },
  {
   "cell_type": "code",
   "execution_count": 99,
   "id": "0d07a231",
   "metadata": {},
   "outputs": [
    {
     "ename": "TypeError",
     "evalue": "'set' object is not subscriptable",
     "output_type": "error",
     "traceback": [
      "\u001b[1;31m---------------------------------------------------------------------------\u001b[0m",
      "\u001b[1;31mTypeError\u001b[0m                                 Traceback (most recent call last)",
      "\u001b[1;32m<ipython-input-99-ecb24b71c838>\u001b[0m in \u001b[0;36m<module>\u001b[1;34m\u001b[0m\n\u001b[1;32m----> 1\u001b[1;33m \u001b[0msetSample\u001b[0m\u001b[1;33m[\u001b[0m\u001b[1;36m1\u001b[0m\u001b[1;33m:\u001b[0m\u001b[1;36m2\u001b[0m\u001b[1;33m]\u001b[0m\u001b[1;33m\u001b[0m\u001b[1;33m\u001b[0m\u001b[0m\n\u001b[0m",
      "\u001b[1;31mTypeError\u001b[0m: 'set' object is not subscriptable"
     ]
    }
   ],
   "source": [
    "setSample[1:2] #TypeError: 'set' object is not subscriptable"
   ]
  },
  {
   "cell_type": "code",
   "execution_count": 100,
   "id": "ef4c6700",
   "metadata": {},
   "outputs": [
    {
     "data": {
      "text/plain": [
       "array('i', [2, 3, 4])"
      ]
     },
     "execution_count": 100,
     "metadata": {},
     "output_type": "execute_result"
    }
   ],
   "source": [
    "arrSample[1:]"
   ]
  },
  {
   "cell_type": "code",
   "execution_count": 101,
   "id": "ee12c318",
   "metadata": {},
   "outputs": [
    {
     "data": {
      "text/plain": [
       "array('i', [2, 3])"
      ]
     },
     "execution_count": 101,
     "metadata": {},
     "output_type": "execute_result"
    }
   ],
   "source": [
    "arrSample[1:-1]"
   ]
  },
  {
   "cell_type": "code",
   "execution_count": 102,
   "id": "f7ae5a4b",
   "metadata": {},
   "outputs": [
    {
     "data": {
      "text/plain": [
       "array('i', [1, 2, 3, 4])"
      ]
     },
     "execution_count": 102,
     "metadata": {},
     "output_type": "execute_result"
    }
   ],
   "source": [
    "arrSample[:]"
   ]
  },
  {
   "cell_type": "code",
   "execution_count": 103,
   "id": "afe83e72",
   "metadata": {},
   "outputs": [
    {
     "data": {
      "text/plain": [
       "range(1, 9, 4)"
      ]
     },
     "execution_count": 103,
     "metadata": {},
     "output_type": "execute_result"
    }
   ],
   "source": [
    "rangeSample[:-1]"
   ]
  },
  {
   "cell_type": "code",
   "execution_count": 104,
   "id": "b45d3699",
   "metadata": {},
   "outputs": [
    {
     "data": {
      "text/plain": [
       "range(1, 13, 4)"
      ]
     },
     "execution_count": 104,
     "metadata": {},
     "output_type": "execute_result"
    }
   ],
   "source": [
    "rangeSample[:]"
   ]
  },
  {
   "cell_type": "code",
   "execution_count": 106,
   "id": "c2e942fa",
   "metadata": {},
   "outputs": [
    {
     "name": "stdout",
     "output_type": "stream",
     "text": [
      "learning  python\n"
     ]
    }
   ],
   "source": [
    "#Sequence data opertaions: concatenation\n",
    "#Sytax:-',','+','+='\n",
    "lstSample+['py']        #[1,2,'a','sam',2,'py']\n",
    "lstSample\n",
    "print(strSample+' ','python') #learning python"
   ]
  },
  {
   "cell_type": "code",
   "execution_count": 107,
   "id": "f3080542",
   "metadata": {},
   "outputs": [
    {
     "ename": "NameError",
     "evalue": "name 'arraySample' is not defined",
     "output_type": "error",
     "traceback": [
      "\u001b[1;31m---------------------------------------------------------------------------\u001b[0m",
      "\u001b[1;31mNameError\u001b[0m                                 Traceback (most recent call last)",
      "\u001b[1;32m<ipython-input-107-6addd8bb9b60>\u001b[0m in \u001b[0;36m<module>\u001b[1;34m\u001b[0m\n\u001b[1;32m----> 1\u001b[1;33m \u001b[0marraySample\u001b[0m\u001b[1;33m+\u001b[0m\u001b[1;33m[\u001b[0m\u001b[1;36m50\u001b[0m\u001b[1;33m,\u001b[0m\u001b[1;36m60\u001b[0m\u001b[1;33m]\u001b[0m    \u001b[1;31m#TypeError: can only append array (not \"list\") to array\u001b[0m\u001b[1;33m\u001b[0m\u001b[1;33m\u001b[0m\u001b[0m\n\u001b[0m",
      "\u001b[1;31mNameError\u001b[0m: name 'arraySample' is not defined"
     ]
    }
   ],
   "source": [
    "arraySample+[50,60]    #TypeError: can only append array (not \"list\") to array"
   ]
  },
  {
   "cell_type": "code",
   "execution_count": 108,
   "id": "ca4c47b7",
   "metadata": {},
   "outputs": [
    {
     "data": {
      "text/plain": [
       "array('i', [1, 2, 3, 4, 50, 60])"
      ]
     },
     "execution_count": 108,
     "metadata": {},
     "output_type": "execute_result"
    }
   ],
   "source": [
    "arrSample+array('i',[50,60]) #array('i', [1, 2, 3, 4, 50, 60])"
   ]
  },
  {
   "cell_type": "code",
   "execution_count": 109,
   "id": "68cbaf81",
   "metadata": {},
   "outputs": [
    {
     "name": "stdout",
     "output_type": "stream",
     "text": [
      "(1, 2, 3, 4, 3, 'py', 'th', 'on')\n"
     ]
    }
   ],
   "source": [
    "tupSample+=('th','on')\n",
    "print(tupSample)   #(1, 2, 3, 4, 3, 'py', 'th', 'on')"
   ]
  },
  {
   "cell_type": "code",
   "execution_count": 110,
   "id": "8e183809",
   "metadata": {},
   "outputs": [
    {
     "name": "stdout",
     "output_type": "stream",
     "text": [
      "({24, 'example', 'data', 87.5}, 24)\n"
     ]
    }
   ],
   "source": [
    "setSample=setSample,24          #converts to tuple with comma separated elements of set,dict,range\n",
    "print(setSample)"
   ]
  },
  {
   "cell_type": "code",
   "execution_count": 111,
   "id": "39a378d0",
   "metadata": {},
   "outputs": [
    {
     "data": {
      "text/plain": [
       "[1, 2, 'a', 'sam', 2, 1, 2, 'a', 'sam', 2]"
      ]
     },
     "execution_count": 111,
     "metadata": {},
     "output_type": "execute_result"
    }
   ],
   "source": [
    "lstSample*2 #[1, 2, 'a', 'sam', 2, 1, 2, 'a', 'sam', 2]"
   ]
  },
  {
   "cell_type": "code",
   "execution_count": 112,
   "id": "3d2f8e78",
   "metadata": {},
   "outputs": [
    {
     "data": {
      "text/plain": [
       "4"
      ]
     },
     "execution_count": 112,
     "metadata": {},
     "output_type": "execute_result"
    }
   ],
   "source": [
    "lstSample[1]*2        #4"
   ]
  },
  {
   "cell_type": "code",
   "execution_count": 113,
   "id": "bd6dec0d",
   "metadata": {},
   "outputs": [
    {
     "data": {
      "text/plain": [
       "'aa'"
      ]
     },
     "execution_count": 113,
     "metadata": {},
     "output_type": "execute_result"
    }
   ],
   "source": [
    "lstSample[2]*2"
   ]
  },
  {
   "cell_type": "code",
   "execution_count": 114,
   "id": "d78e1882",
   "metadata": {},
   "outputs": [
    {
     "data": {
      "text/plain": [
       "(1, 2, 3, 4, 3, 'py', 'th', 'on')"
      ]
     },
     "execution_count": 114,
     "metadata": {},
     "output_type": "execute_result"
    }
   ],
   "source": [
    "tupSample"
   ]
  },
  {
   "cell_type": "code",
   "execution_count": 115,
   "id": "51a1755a",
   "metadata": {},
   "outputs": [
    {
     "data": {
      "text/plain": [
       "(3, 4, 3, 4)"
      ]
     },
     "execution_count": 115,
     "metadata": {},
     "output_type": "execute_result"
    }
   ],
   "source": [
    "tupSample[2:4]*2        #(3, 4, 3, 4): Concatenated sliced tuple twice"
   ]
  },
  {
   "cell_type": "code",
   "execution_count": 116,
   "id": "63738a24",
   "metadata": {},
   "outputs": [
    {
     "data": {
      "text/plain": [
       "0.5"
      ]
     },
     "execution_count": 116,
     "metadata": {},
     "output_type": "execute_result"
    }
   ],
   "source": [
    "tupSample[1]/4        #0.5"
   ]
  },
  {
   "cell_type": "code",
   "execution_count": 117,
   "id": "2df591d5",
   "metadata": {},
   "outputs": [
    {
     "data": {
      "text/plain": [
       "array('i', [1, 2, 3, 4, 1, 2, 3, 4])"
      ]
     },
     "execution_count": 117,
     "metadata": {},
     "output_type": "execute_result"
    }
   ],
   "source": [
    "arrSample*2"
   ]
  },
  {
   "cell_type": "code",
   "execution_count": 118,
   "id": "9ec106a5",
   "metadata": {},
   "outputs": [
    {
     "data": {
      "text/plain": [
       "'learninglearning'"
      ]
     },
     "execution_count": 118,
     "metadata": {},
     "output_type": "execute_result"
    }
   ],
   "source": [
    "strSample*2"
   ]
  },
  {
   "cell_type": "code",
   "execution_count": 119,
   "id": "7b792c99",
   "metadata": {},
   "outputs": [],
   "source": [
    "strSample*=3 #concatenate thrice"
   ]
  },
  {
   "cell_type": "code",
   "execution_count": 120,
   "id": "afaca22e",
   "metadata": {},
   "outputs": [
    {
     "name": "stdout",
     "output_type": "stream",
     "text": [
      "learninglearninglearning\n"
     ]
    }
   ],
   "source": [
    "print(strSample)"
   ]
  },
  {
   "cell_type": "code",
   "execution_count": 121,
   "id": "72f77566",
   "metadata": {},
   "outputs": [
    {
     "ename": "TypeError",
     "evalue": "unsupported operand type(s) for *: 'range' and 'int'",
     "output_type": "error",
     "traceback": [
      "\u001b[1;31m---------------------------------------------------------------------------\u001b[0m",
      "\u001b[1;31mTypeError\u001b[0m                                 Traceback (most recent call last)",
      "\u001b[1;32m<ipython-input-121-6b0f5b2690e6>\u001b[0m in \u001b[0;36m<module>\u001b[1;34m\u001b[0m\n\u001b[1;32m----> 1\u001b[1;33m \u001b[0mrangeSample\u001b[0m\u001b[1;33m*\u001b[0m\u001b[1;36m2\u001b[0m\u001b[1;33m\u001b[0m\u001b[1;33m\u001b[0m\u001b[0m\n\u001b[0m",
      "\u001b[1;31mTypeError\u001b[0m: unsupported operand type(s) for *: 'range' and 'int'"
     ]
    }
   ],
   "source": [
    "rangeSample*2 #TypeError: unsupported operand type(s) for *: 'range' and 'int'"
   ]
  },
  {
   "cell_type": "code",
   "execution_count": null,
   "id": "70740d81",
   "metadata": {},
   "outputs": [],
   "source": []
  }
 ],
 "metadata": {
  "kernelspec": {
   "display_name": "Python 3",
   "language": "python",
   "name": "python3"
  },
  "language_info": {
   "codemirror_mode": {
    "name": "ipython",
    "version": 3
   },
   "file_extension": ".py",
   "mimetype": "text/x-python",
   "name": "python",
   "nbconvert_exporter": "python",
   "pygments_lexer": "ipython3",
   "version": "3.8.8"
  }
 },
 "nbformat": 4,
 "nbformat_minor": 5
}
